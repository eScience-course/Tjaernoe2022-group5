{
 "cells": [
  {
   "cell_type": "code",
   "execution_count": null,
   "id": "2c553471-c9fa-47e8-b489-5fa21e55b0a1",
   "metadata": {},
   "outputs": [],
   "source": [
    "import scipy.stats as st\n",
    "\n",
    "distrib = st.mielke\n",
    "\n",
    "params = [387.1031341793612, 20.519175327699987, -0.5399165187736901, 1.4087104279163118]\n",
    "params_init =[25.958341361875725, 6.033654880661353, -0.03094463517841417, 0.0628311337711128]\n",
    "\n",
    "def qm(tmax,fit_params_,fit_params_era5):\n",
    "    k,s,loc,scale = fit_params_\n",
    "    k_,s_,loc_,scale_ = fit_params_era5\n",
    "    cdf_hist = distrib.cdf(tmax,*fit_params_)\n",
    "    tmax_qm = distrib.ppf(cdf_hist,*fit_params_era5)\n",
    "    return tmax_qm\n",
    "\n",
    "\n",
    "def qdm(tmax):\n",
    "    tqdm = np.zeros(np.shape(tmax))\n",
    "    t = range(np.shape(tqdm)[0])\n",
    "    lats = range(np.shape(tqdm)[1])\n",
    "    lons = range(np.shape(tqdm)[2])\n",
    "    for la in lats:\n",
    "        for lo in lons:\n",
    "            tloc = tmax[:,la,lo]\n",
    "            loc_qm = qm(tloc,params,params_init)\n",
    "            tqdm[:,la,lo] = loc_qm\n",
    "    return tqdm\n"
   ]
  }
 ],
 "metadata": {
  "kernelspec": {
   "display_name": "Python [conda env:notebook] *",
   "language": "python",
   "name": "conda-env-notebook-py"
  },
  "language_info": {
   "codemirror_mode": {
    "name": "ipython",
    "version": 3
   },
   "file_extension": ".py",
   "mimetype": "text/x-python",
   "name": "python",
   "nbconvert_exporter": "python",
   "pygments_lexer": "ipython3",
   "version": "3.9.13"
  }
 },
 "nbformat": 4,
 "nbformat_minor": 5
}
