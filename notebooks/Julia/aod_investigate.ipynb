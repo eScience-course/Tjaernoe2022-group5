{
 "cells": [
  {
   "cell_type": "code",
   "execution_count": null,
   "id": "803dbb6d-cfd5-4361-967c-1111e9c90e55",
   "metadata": {},
   "outputs": [],
   "source": [
    "import xarray as xr\n",
    "import pandas as pd\n",
    "import numpy as np\n",
    "import matplotlib.pyplot as plt\n",
    "import os\n",
    "import cartopy as cy\n",
    "import cartopy.crs as ccrs\n",
    "import matplotlib.path as mpath\n",
    "import s3fs\n",
    "import intake\n",
    "import warnings"
   ]
  },
  {
   "cell_type": "code",
   "execution_count": null,
   "id": "cb5bff32-e3af-4ec2-815f-071d2d5f8062",
   "metadata": {},
   "outputs": [],
   "source": [
    "def count_ARs(ds, lat_cut):\n",
    "    '''\n",
    "    Counts number of AR at each time step. Returns dataset with added coordinate ar_counts_[lat_cut].\n",
    "    '''\n",
    "    if lat_cut<0:\n",
    "        pole_ds = ds.sel(lat= slice(-90, lat_cut))\n",
    "    else:\n",
    "        pole_ds = ds.sel(lat= slice(lat_cut, 90))\n",
    "\n",
    "    ar_counts = np.zeros(len(pole_ds.time))\n",
    "    for i,ts in enumerate(pole_ds.time):\n",
    "        ll = xr.plot.contour(pole_ds.sel(time=ts).ivt, levels=[0.0,1.0])\n",
    "        plt.close()\n",
    "        if len(ll.collections)>1: #You can remove this and next line if you have run it a few times without getting the printout :))\n",
    "            print('julia was wrong about something, tell her to fix it'+ts) \n",
    "        nr_ar = len(ll.collections[0].get_paths())\n",
    "        ar_counts[i] = nr_ar\n",
    "    ds[f'ar_counts_{lat_cut}']= (['time'], ar_counts)\n",
    "    return ds\n",
    "\n",
    "def circle_for_polar_map(axes):\n",
    "    theta = np.linspace(0, 2*np.pi, 100)\n",
    "    center, radius = [0.5, 0.5], 0.5\n",
    "    verts = np.vstack([np.sin(theta), np.cos(theta)]).T\n",
    "    circle = mpath.Path(verts * radius + center)\n",
    "    axes.set_boundary(circle, transform=axes.transAxes)\n",
    "    \n",
    "def sort_ar_by_aod(aod_ds,ar_ds):\n",
    "    warnings.simplefilter('ignore', UserWarning)\n",
    "    aod_ar=aod_ds.where(ar_ds.ivt==True)\n",
    "    clean_lim = aod_ar.od550aer.median()\n",
    "    aod_ar['poll_ar_aod'] = xr.DataArray(coords=aod_ar.coords, dims =aod_ar.dims)\n",
    "    aod_ar['clean_ar_aod'] = xr.DataArray(coords=aod_ar.coords, dims =aod_ar.dims)\n",
    "    for ts in aod_ar.time:\n",
    "        ts_array = aod_ar.sel(time=ts).od550aer\n",
    "        ll = xr.plot.contourf(ts_array.squeeze(), levels=[0,20])\n",
    "        plt.close()\n",
    "        for i,item in enumerate(ll.collections[0].get_paths()):\n",
    "            v = item.vertices\n",
    "            lat = v[:,1]\n",
    "            lon = v[:,0]\n",
    "            ar_i_aod = ts_array.sel(lat=slice(np.min(lat), np.max(lat)), lon = slice(np.min(lon), np.max(lon)))\n",
    "            if ar_i_aod.mean(skipna=True)>clean_lim:\n",
    "                aod_ar['poll_ar_aod'].loc[ts,slice(np.min(lat), np.max(lat)),slice(np.min(lon), np.max(lon))] = ar_i_aod\n",
    "            else:\n",
    "                aod_ar['clean_ar_aod'].loc[ts,slice(np.min(lat), np.max(lat)),slice(np.min(lon), np.max(lon))] = ar_i_aod\n",
    "    return aod_ar"
   ]
  }
 ],
 "metadata": {
  "kernelspec": {
   "display_name": "Python [conda env:notebook] *",
   "language": "python",
   "name": "conda-env-notebook-py"
  },
  "language_info": {
   "codemirror_mode": {
    "name": "ipython",
    "version": 3
   },
   "file_extension": ".py",
   "mimetype": "text/x-python",
   "name": "python",
   "nbconvert_exporter": "python",
   "pygments_lexer": "ipython3",
   "version": "3.9.13"
  }
 },
 "nbformat": 4,
 "nbformat_minor": 5
}
