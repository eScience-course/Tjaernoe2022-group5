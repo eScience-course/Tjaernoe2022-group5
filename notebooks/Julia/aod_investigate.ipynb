{
 "cells": [
  {
   "cell_type": "code",
   "execution_count": 1,
   "id": "803dbb6d-cfd5-4361-967c-1111e9c90e55",
   "metadata": {},
   "outputs": [],
   "source": [
    "import xarray as xr\n",
    "import pandas as pd\n",
    "import numpy as np\n",
    "import matplotlib.pyplot as plt\n",
    "import os\n",
    "import cartopy as cy\n",
    "import cartopy.crs as ccrs\n",
    "import matplotlib.path as mpath\n",
    "import s3fs\n",
    "import intake\n",
    "import warnings"
   ]
  },
  {
   "cell_type": "code",
   "execution_count": 110,
   "id": "cb5bff32-e3af-4ec2-815f-071d2d5f8062",
   "metadata": {},
   "outputs": [],
   "source": [
    "def count_ARs(ds, lat_cut):\n",
    "    '''\n",
    "    Counts number of AR at each time step. Returns dataset with added coordinate ar_counts_[lat_cut].\n",
    "    '''\n",
    "    if lat_cut<0:\n",
    "        pole_ds = ds.sel(lat= slice(-90, lat_cut))\n",
    "    else:\n",
    "        pole_ds = ds.sel(lat= slice(lat_cut, 90))\n",
    "\n",
    "    ar_counts = np.zeros(len(pole_ds.time))\n",
    "    for i,ts in enumerate(pole_ds.time):\n",
    "        ll = xr.plot.contour(pole_ds.sel(time=ts).ivt, levels=[0.0,1.0])\n",
    "        plt.close()\n",
    "        if len(ll.collections)>1: #You can remove this and next line if you have run it a few times without getting the printout :))\n",
    "            print('julia was wrong about something, tell her to fix it'+ts) \n",
    "        nr_ar = len(ll.collections[0].get_paths())\n",
    "        ar_counts[i] = nr_ar\n",
    "    ds[f'ar_counts_{lat_cut}']= (['time'], ar_counts)\n",
    "    return ds\n",
    "\n",
    "def circle_for_polar_map(axes):\n",
    "    theta = np.linspace(0, 2*np.pi, 100)\n",
    "    center, radius = [0.5, 0.5], 0.5\n",
    "    verts = np.vstack([np.sin(theta), np.cos(theta)]).T\n",
    "    circle = mpath.Path(verts * radius + center)\n",
    "    axes.set_boundary(circle, transform=axes.transAxes)\n",
    "    \n",
    "def sort_ar_by_aod(aod_ds,ar_ds, poll_lim, clean_lim):\n",
    "    warnings.simplefilter('ignore', UserWarning)\n",
    "    aod_ar=aod_ds.where(ar_ds.ivt==True)\n",
    "    aod_ar['poll_ar_aod'] = xr.DataArray(coords=aod_ar.coords, dims =aod_ar.dims)\n",
    "    aod_ar['clean_ar_aod'] = xr.DataArray(coords=aod_ar.coords, dims =aod_ar.dims)\n",
    "    aod_ar['mid_ar_aod'] = xr.DataArray(coords=aod_ar.coords, dims =aod_ar.dims)\n",
    "    for ts in aod_ar.time:\n",
    "        ts_array = aod_ar.sel(time=ts).od550aer\n",
    "        ll = xr.plot.contourf(ts_array.squeeze(), levels=[0,20])\n",
    "        plt.close()\n",
    "        for i,item in enumerate(ll.collections[0].get_paths()):\n",
    "            v = item.vertices\n",
    "            lat = v[:,1]\n",
    "            lon = v[:,0]\n",
    "            ar_i_aod = ts_array.sel(lat=slice(np.min(lat), np.max(lat)), lon = slice(np.min(lon), np.max(lon)))\n",
    "            if ar_i_aod.mean(skipna=True).values>poll_lim.values:\n",
    "                aod_ar['poll_ar_aod'].loc[ts,slice(np.min(lat), np.max(lat)),slice(np.min(lon), np.max(lon))] = ar_i_aod\n",
    "            elif ar_i_aod.mean(skipna=True).values< clean_lim.values :\n",
    "                aod_ar['clean_ar_aod'].loc[ts,slice(np.min(lat), np.max(lat)),slice(np.min(lon), np.max(lon))] = ar_i_aod\n",
    "            else:\n",
    "                aod_ar['mid_ar_aod'].loc[ts,slice(np.min(lat), np.max(lat)),slice(np.min(lon), np.max(lon))] = ar_i_aod\n",
    "    \n",
    "    return aod_ar"
   ]
  },
  {
   "cell_type": "markdown",
   "id": "8617091c-25fa-48b0-b6c6-a628d5db99cd",
   "metadata": {},
   "source": [
    "## Load data"
   ]
  },
  {
   "cell_type": "code",
   "execution_count": 3,
   "id": "ea5c147a-9006-43e4-898e-12154d97e689",
   "metadata": {},
   "outputs": [],
   "source": [
    "start_year='2000'\n",
    "end_year='2015'"
   ]
  },
  {
   "cell_type": "markdown",
   "id": "48a841a8-2d9b-4409-95dc-2aab0c0cbbc5",
   "metadata": {},
   "source": [
    "Historical aod"
   ]
  },
  {
   "cell_type": "code",
   "execution_count": 4,
   "id": "35dd2d28-53df-43c5-94d0-f06c77df6ee4",
   "metadata": {},
   "outputs": [],
   "source": [
    "s3 = s3fs.S3FileSystem(key=\"K1CQ7M1DMTLUFK182APD\", \n",
    "                       secret=\"3JuZAQm5I03jtpijCpHOdkAsJDNLNfZxBpM15Pi0\", \n",
    "                       client_kwargs=dict(endpoint_url=\"https://rgw.met.no\"))\n",
    "#s3.ls('escience2022/Remy/')"
   ]
  },
  {
   "cell_type": "code",
   "execution_count": 5,
   "id": "d60334ca-d08c-4fe5-9094-687b981365af",
   "metadata": {},
   "outputs": [],
   "source": [
    "s3path_hist1_aod = 's3://escience2022/Remy/od550aer_AERday_NorESM2-LM_historical_r1i1p1f1_gn_20000101-20091231.nc'\n",
    "s3path_hist2_aod = 's3://escience2022/Remy/od550aer_AERday_NorESM2-LM_historical_r1i1p1f1_gn_20100101-20141231.nc'\n",
    "\n",
    "hist1_aod = xr.open_dataset(s3.open(s3path_hist1_aod), drop_variables =['time_bnds','lat_bnds','lon_bnds'])\n",
    "hist2_aod = xr.open_dataset(s3.open(s3path_hist2_aod), drop_variables =['time_bnds','lat_bnds','lon_bnds'])\n",
    "\n",
    "aod_hist = xr.merge([hist1_aod, hist2_aod])"
   ]
  },
  {
   "cell_type": "markdown",
   "id": "d563fb43-2392-4e16-9686-dd78a2f4a039",
   "metadata": {},
   "source": [
    "Atmospheric river detection file"
   ]
  },
  {
   "cell_type": "code",
   "execution_count": 6,
   "id": "4001e686-b422-42a9-9699-2ebf01c681c9",
   "metadata": {},
   "outputs": [],
   "source": [
    "ar_hist = xr.open_dataset('20002015_AR_detection_counted.nc')"
   ]
  },
  {
   "cell_type": "markdown",
   "id": "387d2999-467d-4064-bc72-f809c0dbba1c",
   "metadata": {},
   "source": [
    "Variables"
   ]
  },
  {
   "cell_type": "code",
   "execution_count": 7,
   "id": "819dc5f4-3393-4956-a412-b384ef2bf2c0",
   "metadata": {},
   "outputs": [],
   "source": [
    "cat_url = \"https://storage.googleapis.com/cmip6/pangeo-cmip6.json\"\n",
    "col = intake.open_esm_datastore(cat_url)"
   ]
  },
  {
   "cell_type": "code",
   "execution_count": 8,
   "id": "5e6e262c-a8cb-4278-a4b7-c7197f0284d8",
   "metadata": {},
   "outputs": [
    {
     "name": "stdout",
     "output_type": "stream",
     "text": [
      "\n",
      "--> The keys in the returned dictionary of datasets are constructed as follows:\n",
      "\t'activity_id.institution_id.source_id.experiment_id.table_id.grid_label'\n"
     ]
    },
    {
     "data": {
      "text/html": [
       "\n",
       "<style>\n",
       "    /* Turns off some styling */\n",
       "    progress {\n",
       "        /* gets rid of default border in Firefox and Opera. */\n",
       "        border: none;\n",
       "        /* Needs to be in here for Safari polyfill so background images work as expected. */\n",
       "        background-size: auto;\n",
       "    }\n",
       "    progress:not([value]), progress:not([value])::-webkit-progress-bar {\n",
       "        background: repeating-linear-gradient(45deg, #7e7e7e, #7e7e7e 10px, #5c5c5c 10px, #5c5c5c 20px);\n",
       "    }\n",
       "    .progress-bar-interrupted, .progress-bar-interrupted::-webkit-progress-bar {\n",
       "        background: #F44336;\n",
       "    }\n",
       "</style>\n"
      ],
      "text/plain": [
       "<IPython.core.display.HTML object>"
      ]
     },
     "metadata": {},
     "output_type": "display_data"
    },
    {
     "data": {
      "text/html": [
       "\n",
       "    <div>\n",
       "      <progress value='1' class='' max='1' style='width:300px; height:20px; vertical-align: middle;'></progress>\n",
       "      100.00% [1/1 00:00&lt;00:00]\n",
       "    </div>\n",
       "    "
      ],
      "text/plain": [
       "<IPython.core.display.HTML object>"
      ]
     },
     "metadata": {},
     "output_type": "display_data"
    }
   ],
   "source": [
    "cat = col.search(source_id=['NorESM2-LM'], experiment_id=['historical'], table_id=['day'], variable_id=['clt','pr','tas'], member_id=['r1i1p1f1'])\n",
    "dset_dict = cat.to_dataset_dict(zarr_kwargs={'use_cftime':True})\n",
    "dataset_list = list(dset_dict.keys())\n",
    "dset = dset_dict[dataset_list[0]]\n",
    "hist_vars = dset.sel(member_id='r1i1p1f1',time=slice(str(start_year)+\"-01-01\", str(end_year)+\"-01-01\"))"
   ]
  },
  {
   "cell_type": "markdown",
   "id": "a67b8735-3ca7-4e03-9fd1-a9233ba683ca",
   "metadata": {},
   "source": [
    "## Calculating aod thresholds"
   ]
  },
  {
   "cell_type": "code",
   "execution_count": 57,
   "id": "e7c903b5-2daa-490c-a513-20fc1d992b94",
   "metadata": {},
   "outputs": [
    {
     "data": {
      "text/plain": [
       "[]"
      ]
     },
     "execution_count": 57,
     "metadata": {},
     "output_type": "execute_result"
    },
    {
     "data": {
      "image/png": "[encoded data removed]",
      "text/plain": [
       "<Figure size 640x480 with 1 Axes>"
      ]
     },
     "metadata": {},
     "output_type": "display_data"
    }
   ],
   "source": [
    "aod_hist.sel(lat = slice(0,60)).od550aer.plot.hist(bins=200, xlim = [1,2.5], label='0-60', alpha=0.5)\n",
    "aod_hist.sel(lat = slice(60,90)).od550aer.plot.hist(bins=200, xlim = [1,2.5], label='60-90', alpha=0.5)\n",
    "plt.axvline(aod_hist.sel(lat = slice(0,60)).od550aer.quantile(0.25))\n",
    "plt.legend()\n",
    "plt.plot()"
   ]
  },
  {
   "cell_type": "code",
   "execution_count": 96,
   "id": "994940c1-4a93-4f0b-8320-5b31d9a8b235",
   "metadata": {},
   "outputs": [],
   "source": [
    "aod_lim= {}\n",
    "aod_lim['arc_75th'] = aod_hist.sel(lat = slice(60,90)).od550aer.quantile(0.75,skipna=True)\n",
    "aod_lim['arc_25th'] = aod_hist.sel(lat = slice(60,90)).od550aer.quantile(0.25,skipna=True)\n",
    "aod_lim['arc_50th'] = aod_hist.sel(lat = slice(60,90)).od550aer.quantile(0.25,skipna=True)\n",
    "aod_lim['arc_mean'] = aod_hist.sel(lat = slice(60,90)).od550aer.mean(skipna=True)\n",
    "aod_lim['arc_median'] = aod_hist.sel(lat = slice(60,90)).od550aer.median(skipna=True)\n",
    "aod_lim['midlat_mean'] = aod_hist.sel(lat = slice(0,60)).od550aer.mean(skipna=True)\n",
    "aod_lim['midlat_75th'] = aod_hist.sel(lat = slice(0,60)).od550aer.quantile(0.75,skipna=True)\n",
    "aod_lim['midlat_25th'] = aod_hist.sel(lat = slice(0,60)).od550aer.quantile(0.25,skipna=True)\n",
    "aod_lim['midlat_90th'] = aod_hist.sel(lat = slice(0,60)).od550aer.quantile(0.9,skipna=True)"
   ]
  },
  {
   "cell_type": "code",
   "execution_count": 111,
   "id": "5c27bd01-1c67-4000-bbe4-4c5d2b7dcb57",
   "metadata": {},
   "outputs": [],
   "source": [
    "aod_ar_ds = sort_ar_by_aod(aod_hist, ar_hist, aod_lim['midlat_75th'], aod_lim['midlat_25th'])"
   ]
  },
  {
   "cell_type": "code",
   "execution_count": 112,
   "id": "a83033c5-7022-44fb-9cc2-d2b1892fd28d",
   "metadata": {},
   "outputs": [],
   "source": [
    "hist_poll_ar = hist_vars.sel(lat=slice(60,90)).where(aod_ar_ds.poll_ar_aod.notnull() )\n",
    "hist_clean_ar = hist_vars.sel(lat=slice(60,90)).where(aod_ar_ds.clean_ar_aod.notnull() )"
   ]
  },
  {
   "cell_type": "code",
   "execution_count": null,
   "id": "45a0f28b-40d3-4e28-a4a8-095eca86854a",
   "metadata": {},
   "outputs": [],
   "source": [
    "plotting_vars = {}\n",
    "vars = ['clt','pr','tas']\n",
    "levs = ['clean','mid','poll']\n",
    "for var in vars:\n",
    "    for lev in levs:\n",
    "        var = {}\n",
    "         var[lev]= hist_clean_ar[var].values.flatten()[~np.isnan(hist_clean_ar[var].values.flatten())]\n",
    "    \n",
    "    "
   ]
  },
  {
   "cell_type": "code",
   "execution_count": 113,
   "id": "c4ec85c6-fe7e-43ab-8a0a-a9167e11fea0",
   "metadata": {},
   "outputs": [],
   "source": [
    "clean_clt = hist_clean_ar.clt.values.flatten()[~np.isnan(hist_clean_ar.clt.values.flatten())]\n",
    "poll_clt = hist_poll_ar.clt.values.flatten()[~np.isnan(hist_poll_ar.clt.values.flatten())]"
   ]
  },
  {
   "cell_type": "code",
   "execution_count": 114,
   "id": "8614542e-4262-4d79-82ca-a8d425f3ecb7",
   "metadata": {},
   "outputs": [],
   "source": [
    "clean_tas = hist_clean_ar.tas.values.flatten()[~np.isnan(hist_clean_ar.tas.values.flatten())]\n",
    "poll_tas = hist_poll_ar.tas.values.flatten()[~np.isnan(hist_poll_ar.tas.values.flatten())]"
   ]
  },
  {
   "cell_type": "code",
   "execution_count": 115,
   "id": "b8d3a926-c22f-4158-84fd-b6d3d56744dc",
   "metadata": {},
   "outputs": [],
   "source": [
    "clean_pr = hist_clean_ar.pr.values.flatten()[~np.isnan(hist_clean_ar.pr.values.flatten())]\n",
    "poll_pr = hist_poll_ar.pr.values.flatten()[~np.isnan(hist_poll_ar.pr.values.flatten())]"
   ]
  },
  {
   "cell_type": "code",
   "execution_count": 128,
   "id": "bc5ce24c-d498-44e5-8a36-6d9552fcf470",
   "metadata": {},
   "outputs": [
    {
     "data": {
      "image/png": "[encoded data removed]",
      "text/plain": [
       "<Figure size 1000x300 with 3 Axes>"
      ]
     },
     "metadata": {},
     "output_type": "display_data"
    }
   ],
   "source": [
    "fig, axs = plt.subplots(1,3, dpi=100, figsize=(10,3))\n",
    "\n",
    "axs[0].hist(clean_clt, alpha = 0.6,bins=15, label='clean AR', weights=np.zeros_like(clean_clt) + 1. / clean_clt.size)\n",
    "axs[0].hist(poll_clt,alpha = 0.6,bins=15, label='polluted AR', weights=np.zeros_like(poll_clt) + 1. / poll_clt.size)\n",
    "axs[0].axvline(np.median(clean_clt), color= 'tab:blue')\n",
    "axs[0].axvline(np.median(poll_clt), color= 'tab:orange')\n",
    "\n",
    "axs[1].hist(clean_pr, alpha = 0.6,bins=15, label='clean AR', weights=np.zeros_like(clean_pr) + 1. / clean_pr.size)\n",
    "axs[1].hist(poll_pr,alpha = 0.6,bins=15, label='polluted AR', weights=np.zeros_like(poll_pr) + 1. / poll_pr.size)\n",
    "#axs[1].axvline(np.mean(clean_pr), color= 'tab:blue')\n",
    "#axs[1].axvline(np.mean(poll_pr), color= 'tab:orange')\n",
    "\n",
    "axs[2].hist(clean_tas, alpha = 0.6,bins=15, label='clean AR', weights=np.zeros_like(clean_tas) + 1. / clean_tas.size)\n",
    "axs[2].hist(poll_tas,alpha = 0.6,bins=15, label='polluted AR', weights=np.zeros_like(poll_tas) + 1. / poll_tas.size)\n",
    "axs[2].axvline(np.mean(clean_tas), color= 'tab:blue')\n",
    "axs[2].axvline(np.mean(poll_tas), color= 'tab:orange')\n",
    "\n",
    "axs[0].set_xlabel('Cloud fraction [%]')\n",
    "axs[1].set_xlabel('Precipitation [kgm$^{-2}$s$^{-1}$]')\n",
    "axs[2].set_xlabel('Surface temperature [K]')\n",
    "\n",
    "#axs[0].set_yscale('log')\n",
    "#axs[1].set_yscale('log')\n",
    "plt.legend()\n",
    "plt.show()"
   ]
  },
  {
   "cell_type": "code",
   "execution_count": null,
   "id": "73d49db7-9949-4da5-85ab-96ca745b4303",
   "metadata": {},
   "outputs": [],
   "source": [
    "#Seasonal plot\n",
    "#add hus\n",
    "#bias correction\n",
    "#continue automation"
   ]
  }
 ],
 "metadata": {
  "kernelspec": {
   "display_name": "Python [conda env:notebook] *",
   "language": "python",
   "name": "conda-env-notebook-py"
  },
  "language_info": {
   "codemirror_mode": {
    "name": "ipython",
    "version": 3
   },
   "file_extension": ".py",
   "mimetype": "text/x-python",
   "name": "python",
   "nbconvert_exporter": "python",
   "pygments_lexer": "ipython3",
   "version": "3.9.13"
  }
 },
 "nbformat": 4,
 "nbformat_minor": 5
}
