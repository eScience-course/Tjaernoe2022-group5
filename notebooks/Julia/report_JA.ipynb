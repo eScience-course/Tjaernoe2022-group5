{
 "cells": [
  {
   "cell_type": "markdown",
   "id": "e86f93cc-dd49-481b-85a1-cc8676aaaacd",
   "metadata": {
    "tags": []
   },
   "source": [
    "## <font size=6> Title about atmospheric rivers and pollution</font>\n",
    "<br><br>\n",
    "<font size=4>\n",
    "**Julia Asplund** (julia.asplund@aces.su.se), in collaboration with Lea Haberstock <p>\n",
    "Date, 2022<p>\n",
    "eScience Tools in Climate Science: Linking Observations with Modelling <p>\n",
    "Group assistant, fearless leader, person we would not have managed without: Remy Lapere \n",
    "</font>"
   ]
  },
  {
   "cell_type": "markdown",
   "id": "b8c1b811-6d54-4843-8dba-d57edadf5de6",
   "metadata": {},
   "source": [
    "## Abstract"
   ]
  },
  {
   "cell_type": "markdown",
   "id": "829e8db4-21aa-4ed1-b37a-6d71f4f7b861",
   "metadata": {},
   "source": [
    "## Introduction"
   ]
  },
  {
   "cell_type": "markdown",
   "id": "4ebd8069-b315-4808-b388-cf6669ae00de",
   "metadata": {},
   "source": [
    "-Mention differences between arctic and antarctic in terms of pollution"
   ]
  },
  {
   "cell_type": "markdown",
   "id": "61d52cf4-f9f7-4410-82ab-e4ee6ed62296",
   "metadata": {},
   "source": [
    "## Methods"
   ]
  },
  {
   "cell_type": "code",
   "execution_count": null,
   "id": "5bbf0015-49b3-4dea-9abd-661f9249d3cd",
   "metadata": {},
   "outputs": [],
   "source": [
    "import xarray as xr\n",
    "import pandas as pd\n",
    "import numpy as np\n",
    "import matplotlib.pyplot as plt\n",
    "import matplotlib.path as mpath\n",
    "import s3fs\n",
    "import intake\n",
    "import functions_JA as fun\n",
    "#import os\n",
    "#import warnings\n",
    "#from matplotlib import rc,animation\n",
    "#from matplotlib.animation import FuncAnimation\n",
    "#from IPython import display\n",
    "#import cartopy as cy\n",
    "#import cartopy.crs as ccrs"
   ]
  },
  {
   "cell_type": "markdown",
   "id": "7c8c074e-5329-4b67-924c-64e3ad6f9e3d",
   "metadata": {},
   "source": [
    "### Preprocessing"
   ]
  },
  {
   "cell_type": "markdown",
   "id": "fcee484a-4086-4af7-b928-37a12a438568",
   "metadata": {},
   "source": [
    "Describe preprocessing and AR mask. Link to file. "
   ]
  },
  {
   "cell_type": "markdown",
   "id": "420c614f-f71b-4c47-b567-8f6739b5806f",
   "metadata": {},
   "source": [
    "### Load data "
   ]
  },
  {
   "cell_type": "markdown",
   "id": "e15638fb-80bd-46f3-8bd4-5ac16f75c7f0",
   "metadata": {},
   "source": [
    "Loading AR mask, pre calculated as described:"
   ]
  },
  {
   "cell_type": "code",
   "execution_count": null,
   "id": "97757e3e-c545-46ff-90f9-31f690e10ce1",
   "metadata": {},
   "outputs": [],
   "source": [
    "ar_mask = xr.open_dataset('combined_hist_q94.nc')"
   ]
  },
  {
   "cell_type": "markdown",
   "id": "e3dc3027-6b0f-4690-8b68-eb15913a6161",
   "metadata": {},
   "source": [
    "Fetching AOD data from met.no:"
   ]
  },
  {
   "cell_type": "code",
   "execution_count": null,
   "id": "e5aa9607-fe79-443e-b7ff-9a6c6a82ff52",
   "metadata": {},
   "outputs": [],
   "source": [
    "#Define connection to met.no bucket\n",
    "s3 = s3fs.S3FileSystem(key=\"K1CQ7M1DMTLUFK182APD\", \n",
    "                       secret=\"3JuZAQm5I03jtpijCpHOdkAsJDNLNfZxBpM15Pi0\", \n",
    "                       client_kwargs=dict(endpoint_url=\"https://rgw.met.no\"))\n",
    "\n",
    "#path to aod data file, in Ada's folder\n",
    "s3path_aod = 's3://escience2022/Ada/monthly/od550aer_AERday_NorESM2-LM_historical_r1i1p1f1_gn_2000101-20141231.nc'\n",
    "\n",
    "#Importing file and dropping unused parameters\n",
    "aod_ds = xr.open_dataset(s3.open(s3path_aod), drop_variables =['time_bnds','lat_bnds','lon_bnds'])"
   ]
  },
  {
   "cell_type": "markdown",
   "id": "1e687d7e-bece-40b0-be6d-d53e3be99213",
   "metadata": {},
   "source": [
    "Loading variables to be considered, from pangeo:"
   ]
  },
  {
   "cell_type": "code",
   "execution_count": null,
   "id": "82a6a267-247d-41b5-9c0b-1fbec1601f07",
   "metadata": {},
   "outputs": [],
   "source": [
    "#Years considered, corresponding to AR mask\n",
    "start_year='2000'\n",
    "end_year='2015'\n",
    "\n",
    "#Define url and connection\n",
    "cat_url = \"https://storage.googleapis.com/cmip6/pangeo-cmip6.json\"\n",
    "col = intake.open_esm_datastore(cat_url)\n",
    "\n",
    "#Search database for the right model, experiment and variables. Save catalog as dictionary, and finally as xarray dataset\n",
    "cat = col.search(source_id=['NorESM2-LM'], experiment_id=['historical'], table_id=['day'], variable_id=['clt','pr','tas','hus'], member_id=['r1i1p1f1'])\n",
    "dset_dict = cat.to_dataset_dict(zarr_kwargs={'use_cftime':True})\n",
    "dataset_list = list(dset_dict.keys())\n",
    "dset = dset_dict[dataset_list[0]]\n",
    "vars_ds = dset.sel(member_id='r1i1p1f1',time=slice(str(start_year)+\"-01-01\", str(end_year)+\"-01-01\"))"
   ]
  },
  {
   "cell_type": "markdown",
   "id": "60a6635e-775a-45db-b93d-ebf1a042bb48",
   "metadata": {},
   "source": [
    "### AR masking and pollution threshold"
   ]
  },
  {
   "cell_type": "markdown",
   "id": "fe62e9b9-1096-4614-be3c-f6a695b004e2",
   "metadata": {},
   "source": [
    "Since I want to investigate the properties of clean versus polluted AR, I need to sort the detected AR depending pollution level. The only relevant aerosol particle parameter with daily output for this CMIP experiment is AOD, and therefore it will be used to sort the AR. Aerosol particle concentrations at the poles generally very low, so low that air transported from mid latitudes will almost always be polluted in comparison. Therefore, I define the thresholds for clean and polluted AR based the AOD at mid latitudes. AR that reach the Arctic (above 60$^{\\cdot}$ North) are considered polluted if the average AOD in the river is within the upper 25th percentile of AOD for the whole time period at latitudes between 30$^{\\cdot}$ and 60$^{\\cdot}$ North. Arctic AR with an average AOD in the lower 25th percentile are considered clean. Antarctic AR are sorted in the same way, but depending on the AOD between 30$^{\\cdot}$ and 60$^{\\cdot}$ South. "
   ]
  },
  {
   "cell_type": "code",
   "execution_count": null,
   "id": "fecaf33b-8871-4be4-9649-2f8b7b0a8193",
   "metadata": {},
   "outputs": [],
   "source": [
    "#Creating a dictionary to store the pollution limits for the sorting of ARs \n",
    "aod_lim= {}\n",
    "aod_lim['midlat_75th'] = aod_hist.sel(lat = slice(30,60)).od550aer.quantile(0.75,skipna=True)\n",
    "aod_lim['midlat_25th'] = aod_hist.sel(lat = slice(30,60)).od550aer.quantile(0.25,skipna=True)\n",
    "aod_lim['midlowlat_75th'] = aod_hist.sel(lat = slice(-60,-30)).od550aer.quantile(0.75,skipna=True)\n",
    "aod_lim['midlowlat_25th'] = aod_hist.sel(lat = slice(-60,-30)).od550aer.quantile(0.25,skipna=True)"
   ]
  },
  {
   "cell_type": "markdown",
   "id": "6226a1cd-8e66-4b77-a87b-6b05f6cd8fff",
   "metadata": {},
   "source": [
    "Now I can apply the AR mask to the AOD data and sort the rivers. The function `sort_ar_by_aod` takes the AOD dataset, the AR mask and the pollution limits, loops over every timestep, applies the mask and then checks the average AOD of every river to sort it. Returned is an AOD dataset with all gridboxes outside the rivers masked out, separated into polluted, clean, and intermediate pollution levels. These parameters can be used as an AR mask for each pollution category separately. There is also a count of the number of rivers in each category for every timestep."
   ]
  },
  {
   "cell_type": "code",
   "execution_count": null,
   "id": "359f6cd1-7098-4bbf-aa4a-ae5ec56b496d",
   "metadata": {},
   "outputs": [],
   "source": [
    "arc_aod_ar = fun.sort_ar_by_aod(aod_ds.sel(lat=slice(60,90)), ar_mask.sel(lat=slice(60,90)), aod_lim['midlat_75th'], aod_lim['midlat_25th'])\n",
    "ant_aod_ar = fun.sort_ar_by_aod(aod_ds.sel(lat=slice(-90,-60)), ar_hist.sel(lat=slice(-90,-60)), aod_lim['midlowlat_75th'], aod_lim['midlowlat_25th'])"
   ]
  },
  {
   "cell_type": "markdown",
   "id": "92df9e19-edd0-4261-a839-21a5416d3720",
   "metadata": {},
   "source": [
    "Next I have to apply the AR masks to the dataset containing the variables of interest. The masked datasets are stored in two different dictionaries, one for each pole. In order to plot histograms of the variables they need to be in 1-dimensional arrays, with all NAN-values (from the masked out data) removed. These are also stored in the dictionaries, to simplify plotting."
   ]
  },
  {
   "cell_type": "code",
   "execution_count": null,
   "id": "2ae5743b-5080-4c6a-8db6-a00b65dd8c80",
   "metadata": {},
   "outputs": [],
   "source": [
    "#Create empty dictionaries to fill with variables and define variables and pollution levels considered:\n",
    "arc_plotting_vars = {}\n",
    "ant_plotting_vars = {}\n",
    "flat_vars = ['clt','pr','tas','hus']\n",
    "levs = ['clean','mid','poll']\n",
    "\n",
    "\n",
    "for lev in levs:\n",
    "    #Create a dictionary in each pollution level\n",
    "    arc_lev_dict = {}\n",
    "    ant_lev_dict = {}\n",
    "    \n",
    "    #Mask the dataset with the AR mask for current pollution level, separate for both ploes and store in dictionary created above.\n",
    "    arc_lev_dict['ar_masked'] = vars_ds.sel(lat=slice(60,90)).where(arc_aod_ar[f'{lev}_ar_aod'].notnull() )\n",
    "    ant_lev_dict['ar_masked'] = vars_ds.sel(lat=slice(-90,-60)).where(ant_aod_ar[f'{lev}_ar_aod'].notnull() )\n",
    "    \n",
    "    for var in flat_vars:    \n",
    "        #For current variable, flatten the masked array and remove NaN values\n",
    "        arc_lev_dict[f'{var}_flat']= lev_dict['ar_masked'][var].values.flatten()[~np.isnan(lev_dict['ar_masked'][var].values.flatten())]\n",
    "        ant_lev_dict[f'{var}_flat']= lev_dict['ar_masked'][var].values.flatten()[~np.isnan(lev_dict['ar_masked'][var].values.flatten())]\n",
    "        \n",
    "        if var == 'pr':\n",
    "            #Convert precipiation from kg/m^2/s to mm/day\n",
    "            arc_lev_dict[f'{var}_flat']= arc_lev_dict[f'{var}_flat']*86400\n",
    "            ant_lev_dict[f'{var}_flat']= ant_lev_dict[f'{var}_flat']*86400\n",
    "    \n",
    "    #save dictionary of data in current pollution level\n",
    "    arc_plotting_vars[lev]=arc_lev_dict\n",
    "    ant_plotting_vars[lev]=ant_lev_dict\n",
    "    "
   ]
  },
  {
   "cell_type": "markdown",
   "id": "3aa6843c-b1d2-4553-86be-d6f2251ab99d",
   "metadata": {},
   "source": [
    "## Results and discussion"
   ]
  },
  {
   "cell_type": "code",
   "execution_count": null,
   "id": "508f083e-4a9d-4892-bf77-09893b0faaf4",
   "metadata": {},
   "outputs": [],
   "source": [
    "fig, axs = plt.subplots(1,len(list(plotting_vars['clean'].keys())[1:-1])+1, dpi=100, figsize=(12,3))\n",
    "\n",
    "for i, var in enumerate(list(plotting_vars['clean'].keys())[1:-1]):\n",
    "    axs[i].hist(plotting_vars['clean'][var], alpha = 0.6,bins=15, label='clean AR', weights=np.zeros_like(plotting_vars['clean'][var]) + 1. / plotting_vars['clean'][var].size)\n",
    "    axs[i].hist(plotting_vars['poll'][var], alpha = 0.6,bins=15, label='polluted AR', weights=np.zeros_like(plotting_vars['poll'][var]) + 1. / plotting_vars['poll'][var].size)\n",
    "\n",
    "sum = aod_ar_ds.sum(dim='time')\n",
    "\n",
    "axs[3].pie([sum[count] for count in ['clean_ar_counts','mid_ar_counts','poll_ar_counts']]\n",
    "           ,labels = ['Clean','Intermediate','Polluted'], colors = ['tab:blue', 'tab:green','tab:orange'], autopct='%1.f%%',shadow=True)    \n",
    "    \n",
    "axs[0].set_xlabel('Cloud fraction [%]')\n",
    "axs[0].set_ylabel('frequency distribution')\n",
    "axs[1].set_xlabel('Precipitation [mm/day]')\n",
    "axs[2].set_xlabel('Surface temperature [K]')\n",
    "axs[3].set_xlabel('AR distribution')\n",
    "\n",
    "axs[0].set_yscale('log')\n",
    "axs[1].set_yscale('log')\n",
    "fig.suptitle('Arctic')\n",
    "axs[0].legend()\n",
    "plt.tight_layout()\n",
    "plt.savefig('figures/arctic_aod_4panels.jpeg', dpi=100)\n",
    "plt.show()"
   ]
  },
  {
   "cell_type": "markdown",
   "id": "6cf7f190-48ca-401a-bbde-5c4138673398",
   "metadata": {},
   "source": [
    "Discuss\n",
    "-AR detection (supplements)\n",
    "-AOD vs vertically resolved aerosol parameter (Where is pollution picked up, does aod really reflect what is carried with the AR, etc)"
   ]
  },
  {
   "cell_type": "markdown",
   "id": "724aa780-21d8-40d6-b684-e99a246c6b5f",
   "metadata": {},
   "source": [
    "## Summary and conclusions"
   ]
  },
  {
   "cell_type": "markdown",
   "id": "65cceddc-9dad-47dc-ae2f-62e84b38af72",
   "metadata": {},
   "source": [
    "## Supplementary material"
   ]
  },
  {
   "cell_type": "markdown",
   "id": "80898fc8-0d43-46ac-9f33-b93f612243e4",
   "metadata": {},
   "source": [
    "Comparicon to Jonathans product, discussion and q threshold, maps for comparison"
   ]
  }
 ],
 "metadata": {
  "kernelspec": {
   "display_name": "Python [conda env:notebook] *",
   "language": "python",
   "name": "conda-env-notebook-py"
  },
  "language_info": {
   "codemirror_mode": {
    "name": "ipython",
    "version": 3
   },
   "file_extension": ".py",
   "mimetype": "text/x-python",
   "name": "python",
   "nbconvert_exporter": "python",
   "pygments_lexer": "ipython3",
   "version": "3.9.13"
  }
 },
 "nbformat": 4,
 "nbformat_minor": 5
}
