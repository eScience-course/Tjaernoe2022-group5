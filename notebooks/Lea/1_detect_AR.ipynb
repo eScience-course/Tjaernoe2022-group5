{
 "cells": [
  {
   "cell_type": "code",
   "execution_count": 8,
   "metadata": {},
   "outputs": [
    {
     "name": "stdout",
     "output_type": "stream",
     "text": [
      "The autoreload extension is already loaded. To reload it, use:\n",
      "  %reload_ext autoreload\n"
     ]
    }
   ],
   "source": [
    "%load_ext autoreload\n",
    "%autoreload 2\n",
    "import xarray as xr\n",
    "xr.set_options(display_style='html')\n",
    "import intake\n",
    "import cftime\n",
    "import matplotlib.pyplot as plt\n",
    "import numpy as np\n",
    "from netCDF4 import Dataset\n",
    "from matplotlib.colors import LogNorm\n",
    "import matplotlib.path as mpath\n",
    "from functions import compute_ivt,to_nc,count_ARs\n",
    "from read_pangeo import read_pangeo, read_to_detect\n",
    "from IPython import display"
   ]
  },
  {
   "cell_type": "code",
   "execution_count": 11,
   "metadata": {},
   "outputs": [
    {
     "name": "stdout",
     "output_type": "stream",
     "text": [
      "\n",
      "--> The keys in the returned dictionary of datasets are constructed as follows:\n",
      "\t'activity_id.institution_id.source_id.experiment_id.table_id.grid_label'\n"
     ]
    },
    {
     "data": {
      "text/html": [
       "\n",
       "<style>\n",
       "    /* Turns off some styling */\n",
       "    progress {\n",
       "        /* gets rid of default border in Firefox and Opera. */\n",
       "        border: none;\n",
       "        /* Needs to be in here for Safari polyfill so background images work as expected. */\n",
       "        background-size: auto;\n",
       "    }\n",
       "    progress:not([value]), progress:not([value])::-webkit-progress-bar {\n",
       "        background: repeating-linear-gradient(45deg, #7e7e7e, #7e7e7e 10px, #5c5c5c 10px, #5c5c5c 20px);\n",
       "    }\n",
       "    .progress-bar-interrupted, .progress-bar-interrupted::-webkit-progress-bar {\n",
       "        background: #F44336;\n",
       "    }\n",
       "</style>\n"
      ],
      "text/plain": [
       "<IPython.core.display.HTML object>"
      ]
     },
     "metadata": {},
     "output_type": "display_data"
    },
    {
     "data": {
      "text/html": [
       "\n",
       "    <div>\n",
       "      <progress value='1' class='' max='1' style='width:300px; height:20px; vertical-align: middle;'></progress>\n",
       "      100.00% [1/1 00:00&lt;00:00]\n",
       "    </div>\n",
       "    "
      ],
      "text/plain": [
       "<IPython.core.display.HTML object>"
      ]
     },
     "metadata": {},
     "output_type": "display_data"
    }
   ],
   "source": [
    "start_year =2035\n",
    "end_year =2050\n",
    "experiment_id = 'ssp585'\n",
    "dset = read_to_detect(start_year = start_year, end_year = end_year, experimentid = experiment_id)"
   ]
  },
  {
   "cell_type": "code",
   "execution_count": 6,
   "metadata": {},
   "outputs": [],
   "source": [
    "vas = dset.va\n",
    "hus = dset.hus\n",
    "plev = dset.plev\n",
    "lat_ = dset.lat\n",
    "lon_ = dset.lon"
   ]
  },
  {
   "cell_type": "code",
   "execution_count": 28,
   "metadata": {},
   "outputs": [],
   "source": [
    "ivt = compute_ivt(hus,vas,plev)\n",
    "dset.close()"
   ]
  },
  {
   "cell_type": "code",
   "execution_count": 29,
   "metadata": {},
   "outputs": [],
   "source": [
    "ivt_ns = ivt.copy()\n",
    "ivt_ns = xr.where(ivt_ns.lat<0,-ivt_ns,ivt_ns,True) # minus for southern hemisphere (positive toward the pole)\n",
    "ivt_ns_pos = xr.where(ivt_ns<0,ivt_ns*0,ivt_ns,True) # negative values = not poleward"
   ]
  },
  {
   "cell_type": "code",
   "execution_count": 30,
   "metadata": {},
   "outputs": [],
   "source": [
    "# pre-computed 93th percentile IVT\n",
    "q93 = xr.open_dataset('q93_2000.nc')\n",
    "q93 = q93.rename({'__xarray_dataarray_variable__':'ivt'})"
   ]
  },
  {
   "cell_type": "code",
   "execution_count": 31,
   "metadata": {},
   "outputs": [],
   "source": [
    "excess = ivt_ns_pos-q93\n",
    "\n",
    "q93.close()\n",
    "ivt_ns_pos.close()\n",
    "\n",
    "ar_points = xr.where(excess>0,1,0)"
   ]
  },
  {
   "cell_type": "code",
   "execution_count": 32,
   "metadata": {},
   "outputs": [
    {
     "name": "stderr",
     "output_type": "stream",
     "text": [
      "/tmp/ipykernel_1140/1875809623.py:15: UserWarning: No contour levels were found within the data range.\n",
      "  ll = plt.contour(df_loc,levels=[0,1])\n"
     ]
    }
   ],
   "source": [
    "out_ar = ar_points.copy()\n",
    "ar_points.close()\n",
    "\n",
    "out_ar = out_ar.drop_vars(['quantile','member_id'])\n",
    "\n",
    "out_loc = np.zeros((out_ar.ivt.shape[0],out_ar.ivt.shape[1],out_ar.ivt.shape[2])).astype(int)\n",
    "\n",
    "res_lon = abs(lon_.values[1]-lon_.values[0])\n",
    "res_lat = abs(np.min(np.diff(lat_.values)))\n",
    "\n",
    "test_val = out_ar.ivt.values[:]\n",
    "\n",
    "for tt in range(len(out_ar.time)):\n",
    "    df_loc = test_val[:,tt,:]\n",
    "    ll = plt.contour(df_loc,levels=[0,1])\n",
    "    plt.close()\n",
    "    for item in ll.collections:\n",
    "        for i in item.get_paths():\n",
    "            v = i.vertices\n",
    "            crit = abs(np.max(v[:, 1])-np.min(v[:, 1]))\n",
    "            if (crit>=20): # AR has to be at least 20 deg lat \n",
    "                xx=(v[:, 0]).astype(int)\n",
    "                yy=(v[:, 1]).astype(int)\n",
    "                for (x,y) in zip(xx,yy):\n",
    "                    out_loc[y,tt,x] = 1\n",
    "    "
   ]
  },
  {
   "cell_type": "code",
   "execution_count": 33,
   "metadata": {},
   "outputs": [],
   "source": [
    "out_ar.ivt.values = out_loc.astype(bool)"
   ]
  },
  {
   "cell_type": "code",
   "execution_count": 34,
   "metadata": {},
   "outputs": [],
   "source": [
    "out_ar.to_netcdf(str(start_year)+str(end_year)+'_crit.nc')\n",
    "out_ar.close()"
   ]
  },
  {
   "cell_type": "code",
   "execution_count": 35,
   "metadata": {},
   "outputs": [],
   "source": [
    "AR = xr.open_dataset(str(start_year)+str(end_year)+'_crit.nc')"
   ]
  },
  {
   "cell_type": "code",
   "execution_count": 36,
   "metadata": {},
   "outputs": [],
   "source": [
    "ivt_ = AR.ivt\n",
    "ivt = xr.concat([ivt_,ivt_[:,:,:5]],dim='lon')# add extra points for AR at the edge of the world"
   ]
  },
  {
   "cell_type": "code",
   "execution_count": 37,
   "metadata": {},
   "outputs": [],
   "source": [
    "out_ar = ivt.copy()\n",
    "out_ar.values[:] = out_ar.values[:]*0.0\n",
    "\n",
    "def floodfill(indata):\n",
    "    outloc = np.copy(indata)\n",
    "    for x in range(indata.shape[0]):\n",
    "        # for each latitude get limit longitudes of shapes\n",
    "        ind_lim = np.where(indata[x,:]==1)\n",
    "        for ii in ind_lim:\n",
    "            if len(ii)>1: # if there is a shape at that longitude\n",
    "                jj=0\n",
    "                while jj<=len(ii)-2:\n",
    "                    if abs(ii[jj]-ii[jj+1])>10: # avoid filling where only 1 point in shape\n",
    "                        jj=jj+1\n",
    "                    else:\n",
    "                        outloc[x,ii[jj]:ii[jj+1]]=1\n",
    "                        jj=jj+1\n",
    "    return outloc\n",
    "\n",
    "\n",
    "for k in range(ivt.shape[0]):\n",
    "    matrix = ivt[k,:,:]\n",
    "    tst = floodfill(matrix)\n",
    "    out_ar[k,:,:] = tst\n",
    "    \n",
    "# add the values of the extra points to get ARs at the end of the world\n",
    "out_ar[:,:,:5] = out_ar[:,:,:5]+out_ar[:,:,144:]\n",
    "out_ar = out_ar[:,:,:144]\n",
    "out_ar = xr.where(out_ar>1,1,out_ar)\n",
    "out_ar = out_ar.astype(bool)\n",
    "\n",
    "lat_ = AR.lat\n",
    "lon_ = AR.lon\n",
    "\n",
    "out_ar.to_netcdf(str(start_year)+str(end_year)+'_AR_detection.nc')"
   ]
  }
 ],
 "metadata": {
  "kernelspec": {
   "display_name": "Python 3 (ipykernel)",
   "language": "python",
   "name": "python3"
  },
  "language_info": {
   "codemirror_mode": {
    "name": "ipython",
    "version": 3
   },
   "file_extension": ".py",
   "mimetype": "text/x-python",
   "name": "python",
   "nbconvert_exporter": "python",
   "pygments_lexer": "ipython3",
   "version": "3.9.13"
  }
 },
 "nbformat": 4,
 "nbformat_minor": 4
}
