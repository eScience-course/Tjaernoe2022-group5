{
 "cells": [
  {
   "cell_type": "code",
   "execution_count": null,
   "id": "2b4cf025-d76e-4d43-8bc7-9bca1183a9c1",
   "metadata": {},
   "outputs": [],
   "source": [
    "import xarray as xr\n",
    "import numpy as np\n",
    "import matplotlib.pyplot as plt\n",
    "import pandas as pd\n",
    "import datetime\n",
    "import seaborn as sns\n",
    "import cartopy as cy\n",
    "import cartopy.crs as ccrs\n",
    "from functions import count_ARs"
   ]
  },
  {
   "cell_type": "code",
   "execution_count": null,
   "id": "c144bcc7-3a22-47e4-83a1-512f42e03c32",
   "metadata": {},
   "outputs": [],
   "source": [
    "#b'/home/jovyan/Tjaernoe2022-group5/notebooks/Lea/Tjaernoe2022-group5/notebooks/Lea/20352049_AR_detection.nc'\n",
    "path = '20352049_AR_detection.nc'\n",
    "ar3550 = xr.open_dataset(path)"
   ]
  },
  {
   "cell_type": "code",
   "execution_count": null,
   "id": "7978b953-dbc9-4b5b-bf93-41f33aa77ad6",
   "metadata": {},
   "outputs": [],
   "source": [
    "def count_ARs(ds, lat_cut):\n",
    "    '''\n",
    "    Counts number of AR at each time step. Returns dataset with added coordinate ar_counts_[lat_cut].\n",
    "    '''\n",
    "    if lat_cut<0:\n",
    "        pole_ds = ds.sel(lat= slice(-90, lat_cut))\n",
    "    else:\n",
    "        pole_ds = ds.sel(lat= slice(lat_cut, 90))\n",
    " \n",
    "    ar_counts = np.zeros(len(pole_ds.time))\n",
    "    for i,ts in enumerate(pole_ds.time):\n",
    "        ll = xr.plot.contour(pole_ds.sel(time=ts).ivt, levels=[0.0,1.0])\n",
    "        plt.close()\n",
    "        if len(ll.collections)>1: #You can remove this and next line if you have run it a few times without getting the printout :))\n",
    "            print('julia was wrong about something, tell her to fix it'+ts)\n",
    "        nr_ar = len(ll.collections[0].get_paths())\n",
    "        ar_counts[i] = nr_ar\n",
    "    ds[f'ar_counts_{lat_cut}']= ar_counts\n",
    "    return ds"
   ]
  },
  {
   "cell_type": "code",
   "execution_count": null,
   "id": "9c046118-e941-4ddb-904a-b7c890fc4742",
   "metadata": {},
   "outputs": [],
   "source": [
    "arc= count_ARs(ds = ar3550, lat_cut= 60)\n",
    "ant = count_ARs(ds = ar3550, lat_cut= -60)\n",
    "ar3550 = arc.merge(ant)"
   ]
  },
  {
   "cell_type": "code",
   "execution_count": null,
   "id": "34766219-71fd-4916-a581-75c152a218fa",
   "metadata": {},
   "outputs": [],
   "source": [
    "ar3550"
   ]
  },
  {
   "cell_type": "code",
   "execution_count": null,
   "id": "3f1651f1-f367-48c2-8ccd-6c8c8d403fdf",
   "metadata": {},
   "outputs": [],
   "source": [
    "#sum of occurence of atmospheric rivers over the whole year\n",
    "#ar3550['ivt'].sum('time').plot()"
   ]
  },
  {
   "cell_type": "code",
   "execution_count": null,
   "id": "9d378dee-8e1b-4519-80b6-ae1018453c04",
   "metadata": {},
   "outputs": [],
   "source": [
    "sm = ar3550['ivt'].sum('time')\n",
    "smarc = sm.sel(lat=slice(50,90))\n",
    "smant = sm.sel(lat=slice(-90,-50))"
   ]
  },
  {
   "cell_type": "code",
   "execution_count": null,
   "id": "a906f24f-4d3e-4d9b-b194-7657224ac02f",
   "metadata": {},
   "outputs": [],
   "source": [
    "sm"
   ]
  },
  {
   "cell_type": "code",
   "execution_count": null,
   "id": "5132f1f7-5057-4109-94bf-96cc5da9b44d",
   "metadata": {},
   "outputs": [],
   "source": [
    "\n",
    "f,ax = plt.subplots(dpi=100, figsize =(10,8),\n",
    "                    subplot_kw={'projection':ccrs.Orthographic(central_latitude=90.0)})\n",
    "smarc.plot.pcolormesh(\n",
    "    cmap = plt.get_cmap('Blues'),ax=ax,\n",
    "    vmin=0, vmax=70,\n",
    "    cbar_kwargs={\n",
    "        'label':'AR occurence Frequency', \n",
    "        'orientation':'horizontal',\n",
    "        \n",
    "    },\n",
    "    transform=ccrs.PlateCarree(), \n",
    "    x='lon',y='lat',\n",
    "    levels = 8\n",
    ")\n",
    "ax.set_title('Sum of occurence 2035-2050')\n",
    "ax.coastlines()\n",
    "\n",
    "gl = ax.gridlines(draw_labels=True)\n",
    "gl.top_labels = False\n",
    "gl.right_labels = False\n",
    "\n",
    "ax.add_feature(cy.feature.BORDERS);"
   ]
  },
  {
   "cell_type": "code",
   "execution_count": null,
   "id": "fa0672f6-fb89-4479-9b10-9c3ff4c96e10",
   "metadata": {},
   "outputs": [],
   "source": []
  },
  {
   "cell_type": "code",
   "execution_count": null,
   "id": "5036c0da-9341-4f52-9467-6c8abaf8dde7",
   "metadata": {},
   "outputs": [],
   "source": [
    "f,ax = plt.subplots(dpi=100, figsize =(10,8),\n",
    "                    subplot_kw={'projection':ccrs.Orthographic(central_latitude=-90.0)})\n",
    "\n",
    "smant.plot.pcolormesh(\n",
    "    cmap = plt.get_cmap('Blues'),ax=ax,\n",
    "    vmin=0, vmax=56,\n",
    "    cbar_kwargs={\n",
    "        'label':'AR occurence frequency', \n",
    "        'orientation':'horizontal',\n",
    "        \n",
    "    },\n",
    "    transform=ccrs.PlateCarree(), \n",
    "    x='lon',y='lat',\n",
    "    levels = 8\n",
    ")\n",
    "ax.set_title('Sum of occurences 2035-2050')\n",
    "ax.coastlines()\n",
    "\n",
    "gl = ax.gridlines(draw_labels=True)\n",
    "gl.top_labels = False\n",
    "gl.right_labels = False\n",
    "\n",
    "ax.add_feature(cy.feature.BORDERS);"
   ]
  },
  {
   "cell_type": "code",
   "execution_count": null,
   "id": "f308970e-9f11-4b65-ae35-9e5b0687cd30",
   "metadata": {},
   "outputs": [],
   "source": []
  },
  {
   "cell_type": "code",
   "execution_count": null,
   "id": "88abb90d-a972-47cf-a313-d3e99bc5d093",
   "metadata": {},
   "outputs": [],
   "source": []
  }
 ],
 "metadata": {
  "kernelspec": {
   "display_name": "Python [conda env:notebook] *",
   "language": "python",
   "name": "conda-env-notebook-py"
  },
  "language_info": {
   "codemirror_mode": {
    "name": "ipython",
    "version": 3
   },
   "file_extension": ".py",
   "mimetype": "text/x-python",
   "name": "python",
   "nbconvert_exporter": "python",
   "pygments_lexer": "ipython3",
   "version": "3.9.13"
  }
 },
 "nbformat": 4,
 "nbformat_minor": 5
}
