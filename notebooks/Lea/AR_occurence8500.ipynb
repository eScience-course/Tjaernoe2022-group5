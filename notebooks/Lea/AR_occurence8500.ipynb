{
 "cells": [
  {
   "cell_type": "code",
   "execution_count": null,
   "id": "2b4cf025-d76e-4d43-8bc7-9bca1183a9c1",
   "metadata": {},
   "outputs": [],
   "source": [
    "import xarray as xr\n",
    "import numpy as np\n",
    "import matplotlib.pyplot as plt\n",
    "import pandas as pd\n",
    "import datetime\n",
    "import seaborn as sns\n",
    "import cartopy as cy\n",
    "import cartopy.crs as ccrs"
   ]
  },
  {
   "cell_type": "code",
   "execution_count": null,
   "id": "c144bcc7-3a22-47e4-83a1-512f42e03c32",
   "metadata": {},
   "outputs": [],
   "source": [
    "#b'/home/jovyan/Tjaernoe2022-group5/notebooks/Lea/Tjaernoe2022-group5/notebooks/Lea/20352049_AR_detection.nc'\n",
    "path = '20852100_AR_detection.nc'\n",
    "ar8500 = xr.open_dataset(path)"
   ]
  },
  {
   "cell_type": "code",
   "execution_count": null,
   "id": "3f1651f1-f367-48c2-8ccd-6c8c8d403fdf",
   "metadata": {},
   "outputs": [],
   "source": [
    "#sum of occurence of atmospheric rivers over the whole year\n",
    "ar8500['ivt'].sum('time').plot()"
   ]
  },
  {
   "cell_type": "code",
   "execution_count": null,
   "id": "9d378dee-8e1b-4519-80b6-ae1018453c04",
   "metadata": {},
   "outputs": [],
   "source": [
    "sm = ar8500['ivt'].sum('time')\n",
    "smarc = sm.sel(lat=slice(50,90))\n",
    "smant = sm.sel(lat=slice(-90,-50))"
   ]
  }
 ],
 "metadata": {
  "kernelspec": {
   "display_name": "Python [conda env:notebook] *",
   "language": "python",
   "name": "conda-env-notebook-py"
  },
  "language_info": {
   "codemirror_mode": {
    "name": "ipython",
    "version": 3
   },
   "file_extension": ".py",
   "mimetype": "text/x-python",
   "name": "python",
   "nbconvert_exporter": "python",
   "pygments_lexer": "ipython3",
   "version": "3.9.13"
  }
 },
 "nbformat": 4,
 "nbformat_minor": 5
}
