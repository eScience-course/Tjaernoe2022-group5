{
 "cells": [
  {
   "cell_type": "markdown",
   "id": "ee792048-3163-4315-b7b9-571428247598",
   "metadata": {},
   "source": [
    "Project title\n",
    "● Participant’s name, email, course title, date, group assistant\n",
    "● Abstract (1/2 page max)\n",
    "● Introduction (1 page)\n",
    "● Method\n",
    "○ Packages used\n",
    "○ Datasets (models and observations)\n",
    "○ Analysis method\n",
    "○ ...\n",
    "● Results\n",
    "● Discussion and outlook (1 page)\n",
    "● Conclusions (1/2 page)\n",
    "● References\n",
    "● Acknowledgments (helpers, collaborators, model and data owners/providers)\n",
    "● Supplementary material (extra figures, functions, pre-processing routines)"
   ]
  },
  {
   "cell_type": "markdown",
   "id": "b15e6be6-bc9d-4678-ac06-8b5b485b193d",
   "metadata": {},
   "source": [
    "# Polar atmospheric rivers\n",
    "## Influence on cloud cover, precipitation and other parameters; now and in future scenarios\n",
    "\n",
    "Lea Haberstock \n",
    "\n",
    "lea.haberstock@gmail.com\n",
    "\n",
    "eScience course 2022\n",
    "\n",
    "December 2nd 2022\n",
    "\n",
    "Group Assistant: Rémy Lapere"
   ]
  },
  {
   "cell_type": "markdown",
   "id": "9e0a2eb0-4dbe-4d2b-884f-5abc55a6a59d",
   "metadata": {},
   "source": [
    "## Introduction"
   ]
  },
  {
   "cell_type": "markdown",
   "id": "00bf4baf-4dfd-45fb-8860-6a0a1b1fb41f",
   "metadata": {},
   "source": [
    "- What is an atmospheric River\n",
    "- why do they matter\n",
    "- arctic vs antarctic\n",
    "- research questions\n",
    "- hypotheses\n",
    "- scope of work"
   ]
  },
  {
   "cell_type": "markdown",
   "id": "07819367-b145-479b-bace-8b9bc193d650",
   "metadata": {},
   "source": [
    "## Data and Methods\n",
    "- NorESM historical data 2000-2014 and scenarios ssp245, 370 and 585 in 2085-2100\n",
    "- AR detection algorithm\n",
    "- analysis of parameters"
   ]
  },
  {
   "cell_type": "markdown",
   "id": "5750c730-2dc5-457c-90b0-68cf8d8c46b7",
   "metadata": {},
   "source": [
    "## Results\n",
    "### Comparison inside and outside AR"
   ]
  },
  {
   "cell_type": "code",
   "execution_count": null,
   "id": "8f11fcb0-c010-47fe-aa2c-4d4e6702f2ad",
   "metadata": {},
   "outputs": [],
   "source": []
  },
  {
   "cell_type": "markdown",
   "id": "35fa6b1e-25d1-4029-9e73-cfc6172d8c02",
   "metadata": {},
   "source": [
    "### Trends in Future Scanrios"
   ]
  },
  {
   "cell_type": "code",
   "execution_count": null,
   "id": "9339b825-db6e-4ffc-9397-caca6c9866ff",
   "metadata": {},
   "outputs": [],
   "source": []
  },
  {
   "cell_type": "markdown",
   "id": "d54b6d3e-28c5-4d7d-8400-ca46ce87ddf7",
   "metadata": {},
   "source": [
    "## Conclusion and Outlook "
   ]
  },
  {
   "cell_type": "code",
   "execution_count": null,
   "id": "dda581ea-b690-4fbf-a138-556478bc6c16",
   "metadata": {},
   "outputs": [],
   "source": []
  }
 ],
 "metadata": {
  "kernelspec": {
   "display_name": "Python 3 (ipykernel)",
   "language": "python",
   "name": "python3"
  },
  "language_info": {
   "codemirror_mode": {
    "name": "ipython",
    "version": 3
   },
   "file_extension": ".py",
   "mimetype": "text/x-python",
   "name": "python",
   "nbconvert_exporter": "python",
   "pygments_lexer": "ipython3",
   "version": "3.9.13"
  }
 },
 "nbformat": 4,
 "nbformat_minor": 5
}
