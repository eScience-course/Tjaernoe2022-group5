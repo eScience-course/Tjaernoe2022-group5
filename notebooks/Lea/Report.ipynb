{
 "cells": [
  {
   "cell_type": "markdown",
   "id": "b15e6be6-bc9d-4678-ac06-8b5b485b193d",
   "metadata": {},
   "source": [
    "# polARosol: for a brighter future?\n",
    "## **POL**ar **A**tmospheric **R**ivers and how they are influenced by Ae**ROSOL**s and how that might affect cloud **BRIGHT**ness but mostly other parameters now and in the **FUTURE**\n",
    "\n",
    "\n",
    "Lea Haberstock \n",
    "\n",
    "lea.haberstock@gmail.com\n",
    "\n",
    "eScience course 2022, Group 5, December 2nd 2022\n",
    "\n",
    "Group Assistant: Rémy Lapere"
   ]
  },
  {
   "cell_type": "markdown",
   "id": "c3683fa8-71d3-462e-bd72-100cebecef8a",
   "metadata": {},
   "source": [
    "## Abstract\n",
    "1/2 page max"
   ]
  },
  {
   "cell_type": "markdown",
   "id": "9e0a2eb0-4dbe-4d2b-884f-5abc55a6a59d",
   "metadata": {},
   "source": [
    "## Introduction"
   ]
  },
  {
   "cell_type": "markdown",
   "id": "4c2493fb-9ac8-4e33-a190-3f38223ac24e",
   "metadata": {},
   "source": [
    "1 page max"
   ]
  },
  {
   "cell_type": "markdown",
   "id": "00bf4baf-4dfd-45fb-8860-6a0a1b1fb41f",
   "metadata": {},
   "source": [
    "- What is an atmospheric River\n",
    "- why do they matter\n",
    "- arctic vs antarctic\n",
    "- research questions\n",
    "- hypotheses\n",
    "- scope of work"
   ]
  },
  {
   "cell_type": "markdown",
   "id": "c23d71a4-bb5e-4154-9820-377992aaa244",
   "metadata": {},
   "source": [
    "The polar regions are highly sensitive to changes in temperature and energy flux due to different positive feedback mechanisms. As a result of this sensitivity, the polar regions warm faster than the global mean temperature, an effect also known as Polar amplification (e.g., Manabe and Wetherald, 1975). The surface albedo feedback describes one of the main effects of a positive enhancement of temperature increase and was first described by Arrhenius in 1896. With rising temperatures, ice and snow will melt and decrease the albedo in high latitudes, resulting in higher absorption of radiation and temperature. Increasing downward longwave radiation was found to play an important role regarding sea ice retreat. In die Arctic horizontal moisture transported and warm air advection from lower latitudes are the main cause for an increase in the downward longwave radiation (D.-S. R. Park et al. 2015). Woods et al. (2013) found that small and thin but intense moisture injections are the main driver of variance in arctic mean surface air temperature and downward longwave radiation. In Antarctica, moist and warm air intrusions are considered to play a critical role in surface melting on major ice shelves due to an increase in integrated water vapor and cloud liquid and ice water content. These intense moisture injections are also known as Atmospheric rivers (AR) which are vapor rich meridional air masses originating from the tropics or subtropics. An atmospheric river is defined as 'A long, narrow, and transient corridor of strong horizontal water vapor transport that is typically associated with a low-level jet stream ahead of the cold front of an extratropical cyclone' (Glossary of Meteorology, 2020). ARs are responsible for over 90 % of meridional vapor transport in the mid latitudes (Nash et al., 2018).  \n",
    "In the Arctic ARs have increased over the past decades\n",
    "\n",
    "\n",
    "Important mechanisms:\n",
    "\n",
    "- downward longwave radiation --> attributed to influx of moisture: radiatively opaque (D.-S. R. Park et al. 2015)\n",
    "- small, intense thin moisture injections significant influence on variance in arctic mean suface air temperature and lw radiation (Woods et al. 2013)\n",
    "\n",
    "\n",
    " \n",
    "- enhanced radiative fluxes due to vapor in clouds --> sea ice loss/disintegration\n",
    "- ice mass losses over ice sheet in greenland\n",
    "- sea ice melt preconditioning (arctic?)\n",
    "- large scale surface melt in antarctica\n",
    "- can also lead to heavy snowfall (antarctica 74-80 % of accumulated snowfall (but extremely many AR in 2009-2011))\n",
    "- can bring aerosols /polluted areas\n",
    "\n",
    "Research question: \n",
    "*1. \n",
    "*2. How will occurence and intensity of polar AR and their effect on clouds, aerosol transport, and precipitation change in the future?*\n",
    "\n",
    "Hypothesis:\n",
    "1. AR become more frequent and stronger with stronger climate change \n",
    "2. \n",
    "\n"
   ]
  },
  {
   "cell_type": "markdown",
   "id": "07819367-b145-479b-bace-8b9bc193d650",
   "metadata": {},
   "source": [
    "## Data and Methods\n",
    "- packages\n",
    "- Datasets (models and observations)\n",
    "NorESM-LM2: historical 2000-2014, ssp245, ssp370, ssp585 2085-2100\n",
    "\n",
    "- Analysis method\n",
    "    - comparing frequency distributions of temperature, humidity, precipitation, aod and cloud cover inside and outside of AR\n",
    "    - comparing frequency distributions of temperature anomaly, humidity, precipitation, aod and cloud cover between different scenarios \n",
    "\n",
    "\n",
    " ...\n",
    "- NorESM historical data 2000-2014 and scenarios ssp245, 370 and 585 in 2085-2100\n",
    "- AR detection algorithm\n",
    "- analysis of parameters"
   ]
  },
  {
   "cell_type": "markdown",
   "id": "1e8137a7-a48e-44a9-8921-2c0102954630",
   "metadata": {},
   "source": [
    "Packages"
   ]
  },
  {
   "cell_type": "code",
   "execution_count": null,
   "id": "19097769-d35d-4de2-95e4-408686667193",
   "metadata": {},
   "outputs": [],
   "source": [
    "%load_ext autoreload\n",
    "%autoreload 2\n",
    "import xarray as xr\n",
    "import s3fs\n",
    "import intake\n",
    "import cftime\n",
    "import numpy as np\n",
    "from netCDF4 import Dataset\n",
    "import scipy.stats as st\n",
    "import matplotlib.pyplot as plt\n",
    "from matplotlib.colors import LogNorm\n",
    "import matplotlib.path as mpath\n",
    "# my functions\n",
    "from all_functions import *\n",
    "xr.set_options(display_style='html')"
   ]
  },
  {
   "cell_type": "markdown",
   "id": "02812d2f-827a-4557-a462-3b7c418eb08a",
   "metadata": {},
   "source": [
    "Datasets"
   ]
  },
  {
   "cell_type": "markdown",
   "id": "14d11338-a482-46b5-b165-e9395f53a216",
   "metadata": {},
   "source": [
    "**NorESM-LM2** The Norwegian Earth System Model (NorESM) is part of the sixth Coupled Model Intercomparison Project (CMIP6).\n",
    "\n",
    "missing some stuff\n",
    "\n",
    "In this work the model with lower spatial resolution (LM) was chosen in order to work with daily temporal resolution. The scenarios ssp245, ssp370, and ssp585, (years 2085-2100) and the 'historical' (years 2000-2014) experiments with the run 'r1i1p1f1' were selected. The investigated variables are precipitation (pr), cloud cover (clt), specific humidity (hus), poleward wind component (va), and surface temperature (tas).\n",
    "\n",
    "**Atmospheric River Detection Algorithm** The basis for the atmospheric river detection algorithm used in this work was developed by Willie et al. () and adapted for this project during data analysis. Atmospheric rivers are detected via a threshold for integrated water vapor (IVT). by integrating the specific humidity over height and multiplying it with the meridional wind component. \n"
   ]
  },
  {
   "cell_type": "markdown",
   "id": "5750c730-2dc5-457c-90b0-68cf8d8c46b7",
   "metadata": {},
   "source": [
    "## Results\n",
    "### Comparison inside and outside AR"
   ]
  },
  {
   "cell_type": "code",
   "execution_count": null,
   "id": "8f11fcb0-c010-47fe-aa2c-4d4e6702f2ad",
   "metadata": {},
   "outputs": [],
   "source": []
  },
  {
   "cell_type": "markdown",
   "id": "35fa6b1e-25d1-4029-9e73-cfc6172d8c02",
   "metadata": {},
   "source": [
    "### Trends in Future Scanrios"
   ]
  },
  {
   "cell_type": "code",
   "execution_count": null,
   "id": "9339b825-db6e-4ffc-9397-caca6c9866ff",
   "metadata": {},
   "outputs": [],
   "source": []
  },
  {
   "cell_type": "markdown",
   "id": "d54b6d3e-28c5-4d7d-8400-ca46ce87ddf7",
   "metadata": {},
   "source": [
    "## Discussion and Outlook \n",
    "1 page"
   ]
  },
  {
   "cell_type": "markdown",
   "id": "6bb018ab-c3d8-4a3a-9c23-758a9f510d1e",
   "metadata": {},
   "source": [
    "## Conclusion\n",
    "1/2 page"
   ]
  },
  {
   "cell_type": "markdown",
   "id": "b208f10f-56ec-44c1-812d-ebcc27b2e685",
   "metadata": {},
   "source": [
    "## References\n",
    "American Meteorological Society. 2020, Glossary of Meteorology, url: https://glossary.ametsoc.org/wiki/Atmospheric_river, last accessed at 16.11.22\n",
    "\n",
    "Woods C and Caballero R., 2016, The Role of Moist Intrusions in Winter Arctic Warming and Sea Ice Decline\n",
    "\n",
    "Manabe and Wetherald, 1975\n",
    "\n",
    "Woods et al., 2013, Large-scale circulation associated with moisture intrusions into the Arctic during winter, \n",
    "\n",
    "(D.-S. R. Park et al. 2015)\n",
    "\n",
    "## Acknowledgments (helpers, collaborators, model and data owners/providers)\n",
    "## Supplementary material (extra figures, functions, pre-processing routines)"
   ]
  }
 ],
 "metadata": {
  "kernelspec": {
   "display_name": "Python 3 (ipykernel)",
   "language": "python",
   "name": "python3"
  },
  "language_info": {
   "codemirror_mode": {
    "name": "ipython",
    "version": 3
   },
   "file_extension": ".py",
   "mimetype": "text/x-python",
   "name": "python",
   "nbconvert_exporter": "python",
   "pygments_lexer": "ipython3",
   "version": "3.9.13"
  }
 },
 "nbformat": 4,
 "nbformat_minor": 5
}
