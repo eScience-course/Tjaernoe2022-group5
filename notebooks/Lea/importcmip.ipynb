{
 "cells": [
  {
   "cell_type": "code",
   "execution_count": 1,
   "id": "17837066-b166-48b3-8923-8a43763fd2f8",
   "metadata": {},
   "outputs": [],
   "source": [
    "import xarray as xr\n",
    "import s3fs\n",
    "xr.set_options(display_style='html')\n",
    "import intake\n",
    "import cftime\n",
    "import matplotlib.pyplot as plt\n",
    "import numpy as np\n",
    "from netCDF4 import Dataset\n",
    "from matplotlib.colors import LogNorm\n",
    "import matplotlib.path as mpath\n",
    "from functions import compute_ivt,to_nc\n",
    "from IPython import display"
   ]
  },
  {
   "cell_type": "code",
   "execution_count": 3,
   "id": "68b5acd4-c6b8-4223-a4f6-2eb9f2af95a2",
   "metadata": {},
   "outputs": [
    {
     "data": {
      "text/plain": [
       "['escience2022/Remy/.keep',\n",
       " 'escience2022/Remy/.wget-20221102193645.sh.status',\n",
       " 'escience2022/Remy/.wget-20221102193729.sh.status',\n",
       " 'escience2022/Remy/.wget-20221102193735.sh.status',\n",
       " 'escience2022/Remy/.wget-20221102193742.sh.status',\n",
       " 'escience2022/Remy/Era5',\n",
       " 'escience2022/Remy/dl_era5_hus.py',\n",
       " 'escience2022/Remy/dl_era5_wind.py',\n",
       " 'escience2022/Remy/hus_day_NorESM2-LM_ssp370_r1i1p1f1_gn_20150101-20201231.nc',\n",
       " 'escience2022/Remy/hus_day_NorESM2-LM_ssp370_r1i1p1f1_gn_20210101-20301231.nc',\n",
       " 'escience2022/Remy/hus_day_NorESM2-LM_ssp370_r1i1p1f1_gn_20310101-20401231.nc',\n",
       " 'escience2022/Remy/hus_day_NorESM2-LM_ssp370_r1i1p1f1_gn_20410101-20501231.nc',\n",
       " 'escience2022/Remy/hus_day_NorESM2-LM_ssp370_r1i1p1f1_gn_20510101-20601231.nc',\n",
       " 'escience2022/Remy/hus_day_NorESM2-LM_ssp370_r1i1p1f1_gn_20610101-20701231.nc',\n",
       " 'escience2022/Remy/hus_day_NorESM2-LM_ssp370_r1i1p1f1_gn_20710101-20801231.nc',\n",
       " 'escience2022/Remy/hus_day_NorESM2-LM_ssp370_r1i1p1f1_gn_20810101-20901231.nc',\n",
       " 'escience2022/Remy/hus_day_NorESM2-LM_ssp370_r1i1p1f1_gn_20910101-21001231.nc',\n",
       " 'escience2022/Remy/od550aer_AERday_NorESM2-LM_historical_r1i1p1f1_gn_19500101-19591231.nc',\n",
       " 'escience2022/Remy/od550aer_AERday_NorESM2-LM_historical_r1i1p1f1_gn_19600101-19691231.nc',\n",
       " 'escience2022/Remy/od550aer_AERday_NorESM2-LM_historical_r1i1p1f1_gn_19700101-19791231.nc',\n",
       " 'escience2022/Remy/od550aer_AERday_NorESM2-LM_historical_r1i1p1f1_gn_19800101-19891231.nc',\n",
       " 'escience2022/Remy/od550aer_AERday_NorESM2-LM_historical_r1i1p1f1_gn_19900101-19991231.nc',\n",
       " 'escience2022/Remy/od550aer_AERday_NorESM2-LM_historical_r1i1p1f1_gn_20000101-20091231.nc',\n",
       " 'escience2022/Remy/od550aer_AERday_NorESM2-LM_historical_r1i1p1f1_gn_20100101-20141231.nc',\n",
       " 'escience2022/Remy/od550aer_AERday_NorESM2-LM_ssp245_r1i1p1f1_gn_20150101-20201231.nc',\n",
       " 'escience2022/Remy/od550aer_AERday_NorESM2-LM_ssp245_r1i1p1f1_gn_20210101-20301231.nc',\n",
       " 'escience2022/Remy/od550aer_AERday_NorESM2-LM_ssp245_r1i1p1f1_gn_20310101-20401231.nc',\n",
       " 'escience2022/Remy/od550aer_AERday_NorESM2-LM_ssp245_r1i1p1f1_gn_20410101-20501231.nc',\n",
       " 'escience2022/Remy/od550aer_AERday_NorESM2-LM_ssp245_r1i1p1f1_gn_20510101-20601231.nc',\n",
       " 'escience2022/Remy/od550aer_AERday_NorESM2-LM_ssp245_r1i1p1f1_gn_20610101-20701231.nc',\n",
       " 'escience2022/Remy/od550aer_AERday_NorESM2-LM_ssp245_r1i1p1f1_gn_20710101-20801231.nc',\n",
       " 'escience2022/Remy/od550aer_AERday_NorESM2-LM_ssp245_r1i1p1f1_gn_20810101-20901231.nc',\n",
       " 'escience2022/Remy/od550aer_AERday_NorESM2-LM_ssp245_r1i1p1f1_gn_20910101-21001231.nc',\n",
       " 'escience2022/Remy/od550aer_AERday_NorESM2-LM_ssp370_r1i1p1f1_gn_20150101-20201231.nc',\n",
       " 'escience2022/Remy/od550aer_AERday_NorESM2-LM_ssp370_r1i1p1f1_gn_20210101-20301231.nc',\n",
       " 'escience2022/Remy/od550aer_AERday_NorESM2-LM_ssp370_r1i1p1f1_gn_20310101-20401231.nc',\n",
       " 'escience2022/Remy/od550aer_AERday_NorESM2-LM_ssp370_r1i1p1f1_gn_20410101-20501231.nc',\n",
       " 'escience2022/Remy/od550aer_AERday_NorESM2-LM_ssp370_r1i1p1f1_gn_20510101-20601231.nc',\n",
       " 'escience2022/Remy/od550aer_AERday_NorESM2-LM_ssp370_r1i1p1f1_gn_20610101-20701231.nc',\n",
       " 'escience2022/Remy/od550aer_AERday_NorESM2-LM_ssp370_r1i1p1f1_gn_20710101-20801231.nc',\n",
       " 'escience2022/Remy/od550aer_AERday_NorESM2-LM_ssp370_r1i1p1f1_gn_20810101-20901231.nc',\n",
       " 'escience2022/Remy/od550aer_AERday_NorESM2-LM_ssp370_r1i1p1f1_gn_20910101-21001231.nc',\n",
       " 'escience2022/Remy/od550aer_AERday_NorESM2-LM_ssp585_r1i1p1f1_gn_20150101-20201231.nc',\n",
       " 'escience2022/Remy/od550aer_AERday_NorESM2-LM_ssp585_r1i1p1f1_gn_20210101-20301231.nc',\n",
       " 'escience2022/Remy/od550aer_AERday_NorESM2-LM_ssp585_r1i1p1f1_gn_20310101-20401231.nc',\n",
       " 'escience2022/Remy/od550aer_AERday_NorESM2-LM_ssp585_r1i1p1f1_gn_20410101-20501231.nc',\n",
       " 'escience2022/Remy/od550aer_AERday_NorESM2-LM_ssp585_r1i1p1f1_gn_20510101-20601231.nc',\n",
       " 'escience2022/Remy/od550aer_AERday_NorESM2-LM_ssp585_r1i1p1f1_gn_20610101-20701231.nc',\n",
       " 'escience2022/Remy/od550aer_AERday_NorESM2-LM_ssp585_r1i1p1f1_gn_20710101-20801231.nc',\n",
       " 'escience2022/Remy/od550aer_AERday_NorESM2-LM_ssp585_r1i1p1f1_gn_20810101-20901231.nc',\n",
       " 'escience2022/Remy/od550aer_AERday_NorESM2-LM_ssp585_r1i1p1f1_gn_20910101-21001231.nc',\n",
       " 'escience2022/Remy/va_day_NorESM2-LM_ssp370_r1i1p1f1_gn_20150101-20201231.nc',\n",
       " 'escience2022/Remy/va_day_NorESM2-LM_ssp370_r1i1p1f1_gn_20210101-20301231.nc',\n",
       " 'escience2022/Remy/va_day_NorESM2-LM_ssp370_r1i1p1f1_gn_20310101-20401231.nc',\n",
       " 'escience2022/Remy/va_day_NorESM2-LM_ssp370_r1i1p1f1_gn_20410101-20501231.nc',\n",
       " 'escience2022/Remy/va_day_NorESM2-LM_ssp370_r1i1p1f1_gn_20510101-20601231.nc',\n",
       " 'escience2022/Remy/va_day_NorESM2-LM_ssp370_r1i1p1f1_gn_20610101-20701231.nc',\n",
       " 'escience2022/Remy/va_day_NorESM2-LM_ssp370_r1i1p1f1_gn_20710101-20801231.nc',\n",
       " 'escience2022/Remy/va_day_NorESM2-LM_ssp370_r1i1p1f1_gn_20810101-20901231.nc',\n",
       " 'escience2022/Remy/va_day_NorESM2-LM_ssp370_r1i1p1f1_gn_20910101-21001231.nc',\n",
       " 'escience2022/Remy/wget-20221102193645.sh',\n",
       " 'escience2022/Remy/wget-20221102193729.sh',\n",
       " 'escience2022/Remy/wget-20221102193735.sh',\n",
       " 'escience2022/Remy/wget-20221102193742.sh',\n",
       " 'escience2022/Remy/wind_ERA5_2020_3hourlyN.nc']"
      ]
     },
     "execution_count": 3,
     "metadata": {},
     "output_type": "execute_result"
    }
   ],
   "source": [
    "# import from the bucket\n",
    "# AOD\n",
    "s3 = s3fs.S3FileSystem(key=\"K1CQ7M1DMTLUFK182APD\", \n",
    "                       secret=\"3JuZAQm5I03jtpijCpHOdkAsJDNLNfZxBpM15Pi0\",\n",
    "                       client_kwargs=dict(endpoint_url=\"https://rgw.met.no\"))\n",
    "s3.ls('escience2022/Remy/')"
   ]
  },
  {
   "cell_type": "code",
   "execution_count": 17,
   "id": "9aab79cc-70fe-4d07-a528-b95757a7678a",
   "metadata": {},
   "outputs": [],
   "source": [
    "# import AOD ssp245 for 2035-2050\n",
    "s3path = list([\n",
    " 'escience2022/Remy/od550aer_AERday_NorESM2-LM_ssp245_r1i1p1f1_gn_20310101-20401231.nc',\n",
    " 'escience2022/Remy/od550aer_AERday_NorESM2-LM_ssp245_r1i1p1f1_gn_20410101-20501231.nc'\n",
    "])\n",
    "\n",
    "sopenlist=[s3.open(ss) for ss in s3path]\n",
    "\n",
    "aod245_3550 = (xr.open_mfdataset(sopenlist)).sel(time = slice(str(start_year)+\"-01-01\", str(end_year)+\"-12-31\"))"
   ]
  },
  {
   "cell_type": "code",
   "execution_count": null,
   "id": "985359a4-0fb0-4994-ac7b-1eade292b5d2",
   "metadata": {},
   "outputs": [],
   "source": [
    "s3path = list([\n",
    "    'escience2022/Remy/od550aer_AERday_NorESM2-LM_ssp370_r1i1p1f1_gn_20810101-20901231.nc',\n",
    "    'escience2022/Remy/od550aer_AERday_NorESM2-LM_ssp370_r1i1p1f1_gn_20910101-21001231.nc'\n",
    "    'escience2022/Remy/va_day_NorESM2-LM_ssp370_r1i1p1f1_gn_20810101-20901231.nc',\n",
    "    'escience2022/Remy/va_day_NorESM2-LM_ssp370_r1i1p1f1_gn_20910101-21001231.nc',\n",
    "])\n",
    "sopenlist=[s3.open(ss) for ss in s3path]\n",
    "aod370= (xr.open_mfdataset(sopenlist)).sel(time = slice(str(start_year2)+\"-01-01\", str(end_year2)+\"-12-31\"))"
   ]
  },
  {
   "cell_type": "code",
   "execution_count": null,
   "id": "963c0de7-f605-44ab-859e-71daef4fd778",
   "metadata": {},
   "outputs": [],
   "source": []
  },
  {
   "cell_type": "code",
   "execution_count": null,
   "id": "963f61ef-fceb-4dfb-8cfc-b4e0267f60db",
   "metadata": {},
   "outputs": [],
   "source": []
  }
 ],
 "metadata": {
  "kernelspec": {
   "display_name": "Python 3 (ipykernel)",
   "language": "python",
   "name": "python3"
  },
  "language_info": {
   "codemirror_mode": {
    "name": "ipython",
    "version": 3
   },
   "file_extension": ".py",
   "mimetype": "text/x-python",
   "name": "python",
   "nbconvert_exporter": "python",
   "pygments_lexer": "ipython3",
   "version": "3.9.13"
  }
 },
 "nbformat": 4,
 "nbformat_minor": 5
}
