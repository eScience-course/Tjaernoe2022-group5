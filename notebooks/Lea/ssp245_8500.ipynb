{
 "cells": [
  {
   "cell_type": "code",
   "execution_count": 3,
   "id": "d7cdeda7-6fdf-44ff-8e62-42bd3a6fc3b6",
   "metadata": {},
   "outputs": [
    {
     "ename": "ModuleNotFoundError",
     "evalue": "No module named 'AR_occurence8500'",
     "output_type": "error",
     "traceback": [
      "\u001b[0;31m---------------------------------------------------------------------------\u001b[0m",
      "\u001b[0;31mModuleNotFoundError\u001b[0m                       Traceback (most recent call last)",
      "Input \u001b[0;32mIn [3]\u001b[0m, in \u001b[0;36m<cell line: 9>\u001b[0;34m()\u001b[0m\n\u001b[1;32m      7\u001b[0m \u001b[38;5;28;01mimport\u001b[39;00m \u001b[38;5;21;01mcartopy\u001b[39;00m \u001b[38;5;28;01mas\u001b[39;00m \u001b[38;5;21;01mcy\u001b[39;00m\n\u001b[1;32m      8\u001b[0m \u001b[38;5;28;01mimport\u001b[39;00m \u001b[38;5;21;01mcartopy\u001b[39;00m\u001b[38;5;21;01m.\u001b[39;00m\u001b[38;5;21;01mcrs\u001b[39;00m \u001b[38;5;28;01mas\u001b[39;00m \u001b[38;5;21;01mccrs\u001b[39;00m\n\u001b[0;32m----> 9\u001b[0m \u001b[38;5;28;01mfrom\u001b[39;00m \u001b[38;5;21;01mAR_occurence8500\u001b[39;00m \u001b[38;5;28;01mimport\u001b[39;00m ar8500\n\u001b[1;32m     10\u001b[0m \u001b[38;5;28;01mfrom\u001b[39;00m \u001b[38;5;21;01mimportcmip\u001b[39;00m \u001b[38;5;28;01mimport\u001b[39;00m cm245_8500\n\u001b[1;32m     11\u001b[0m \u001b[38;5;28;01mfrom\u001b[39;00m \u001b[38;5;21;01mimportcmip\u001b[39;00m \u001b[38;5;28;01mimport\u001b[39;00m aod245_8500\n",
      "\u001b[0;31mModuleNotFoundError\u001b[0m: No module named 'AR_occurence8500'"
     ]
    }
   ],
   "source": [
    "import xarray as xr\n",
    "import numpy as np\n",
    "import matplotlib.pyplot as plt\n",
    "import pandas as pd\n",
    "import datetime\n",
    "import seaborn as sns\n",
    "import cartopy as cy\n",
    "import cartopy.crs as ccrs\n",
    "from AR_occurence8500 import ar8500\n",
    "from importcmip import cm245_8500\n",
    "from importcmip import aod245_8500\n",
    "import s3fs\n",
    "xr.set_options(display_style='html')\n",
    "import intake\n",
    "import cftime\n",
    "from netCDF4 import Dataset\n",
    "from matplotlib.colors import LogNorm\n",
    "import matplotlib.path as mpath\n",
    "from matplotlib import rc,animation\n",
    "from matplotlib.animation import FuncAnimation\n",
    "from IPython import display"
   ]
  },
  {
   "cell_type": "code",
   "execution_count": null,
   "id": "499307d3-7089-4618-8747-5000c34fbec4",
   "metadata": {},
   "outputs": [],
   "source": [
    "ar8500"
   ]
  },
  {
   "cell_type": "code",
   "execution_count": null,
   "id": "a6772668-6dd9-43a8-bc16-6b1f82910e25",
   "metadata": {},
   "outputs": [],
   "source": [
    "cm245_8500"
   ]
  },
  {
   "cell_type": "code",
   "execution_count": null,
   "id": "cabb8dca-3b42-4d48-a2ef-2c03c275be1f",
   "metadata": {},
   "outputs": [],
   "source": [
    "aod245_8500"
   ]
  },
  {
   "cell_type": "code",
   "execution_count": null,
   "id": "7d57391e-e8e3-4352-b627-c0bb7a3a5ade",
   "metadata": {},
   "outputs": [],
   "source": [
    "# merge datasets\n",
    "d245_3550 = cm245_3550.merge(aod245_3550.drop(('lat_bnds', 'time_bnds', 'lon_bnds')))\n",
    "\n",
    "arc = d245_3550.sel(lat = slice(50,90))\n",
    "ant =d245_3550.sel(lat = slice(-90,-50))"
   ]
  },
  {
   "cell_type": "code",
   "execution_count": null,
   "id": "b9f12a07-6c27-47f9-b185-64b36f013895",
   "metadata": {},
   "outputs": [],
   "source": []
  },
  {
   "cell_type": "code",
   "execution_count": null,
   "id": "2fcfa7f0-5620-48f5-82c4-9157f99bea20",
   "metadata": {},
   "outputs": [],
   "source": [
    "# mask data within and out of atmospheric rivers\n",
    "marc = arc.where(ar3550['ivt'] == True)\n",
    "mant = ant.where(ar3550['ivt'] == True)\n",
    "amarc = arc.where(ar3550['ivt'] == False)\n",
    "amant = ant.where(ar3550['ivt'] == False)"
   ]
  },
  {
   "cell_type": "markdown",
   "id": "39226549-c452-4b97-9f5d-e2fcd10aa138",
   "metadata": {},
   "source": [
    "## Arctic"
   ]
  },
  {
   "cell_type": "code",
   "execution_count": null,
   "id": "6d8d932f-b893-46bf-aa0c-6cfcb80cb043",
   "metadata": {},
   "outputs": [],
   "source": [
    "# for frequency plots slice for plev >25000 and integrate over plev\n",
    "mpl =marc.sel(plev=slice(100000, 25000))\n",
    "pl =amarc.sel(plev=slice(100000, 25000)).where(arc['va'] > 0)\n",
    "\n",
    "# wind\n",
    "mplva =-1*mpl['va'].integrate('plev')\n",
    "plva =-1*pl['va'].integrate('plev')\n",
    "\n",
    "# humidity\n",
    "mplh =-1*mpl['hus'].integrate('plev')\n",
    "plh =-1*pl['hus'].integrate('plev')\n"
   ]
  },
  {
   "cell_type": "code",
   "execution_count": null,
   "id": "56e9616d-5e64-45ba-8cbc-01e67cd14c1f",
   "metadata": {},
   "outputs": [],
   "source": [
    "mv = mplva.values.flatten()\n",
    "mv = mv[~np.isnan(mv)]\n",
    "v = plva.values.flatten()\n",
    "v= v[~np.isnan(v)]\n",
    "mh = mplh.values.flatten()\n",
    "mh = mh[~np.isnan(mh)]\n",
    "h = plh.values.flatten()\n",
    "h = h[~np.isnan(h)]\n",
    "mcc = pl['clt'].values.flatten()\n",
    "mcc = mcc[~np.isnan(mcc)]\n",
    "cc = mpl['clt'].values.flatten()\n",
    "cc = cc[~np.isnan(cc)]\n",
    "mt = mpl['tas'].values.flatten()\n",
    "mt = mt[~np.isnan(mt)]\n",
    "t = pl['tas'].values.flatten()\n",
    "t = t[~np.isnan(t)]\n",
    "ma = mpl['od550aer'].values.flatten()\n",
    "ma = ma[~np.isnan(ma)]\n",
    "a = pl['od550aer'].values.flatten()\n",
    "a = a[~np.isnan(a)]\n",
    "mp = mpl['pr'].values.flatten()\n",
    "mp = mp[~np.isnan(mp)]\n",
    "p = pl['pr'].values.flatten()\n",
    "p = p[~np.isnan(p)]"
   ]
  },
  {
   "cell_type": "code",
   "execution_count": null,
   "id": "584dc316-e3fe-4cd0-869e-af62704ad825",
   "metadata": {},
   "outputs": [],
   "source": [
    "fig, axs = plt.subplots(2,3, figsize=(10,6))\n",
    "axs = axs.flatten()\n",
    "fig.suptitle('Arctic', fontsize=16)\n",
    "axs[0].hist(mv, weights = np.zeros_like(mv)+1./mv.size, \n",
    "           alpha = 0.5, color = \"g\", label = \"inside AR\", bins=30)\n",
    "axs[0].hist(v, weights = np.zeros_like(v)+1./v.size, \n",
    "           alpha = 0.5, color = \"b\", label = \"outside AR\", bins=30)\n",
    "axs[1].hist(mh, weights = np.zeros_like(mh)+1./mh.size, \n",
    "           alpha = 0.5, color = \"g\", label = \"inside AR\", bins=30)\n",
    "axs[1].hist(h, weights = np.zeros_like(h)+1./h.size, \n",
    "           alpha = 0.5, color = \"b\", label = \"outside AR\", bins=30)\n",
    "axs[2].hist(mcc, weights = np.zeros_like(mcc)+1./mcc.size, \n",
    "           alpha = 0.5, color = \"g\", label = \"inside AR\", bins=30)\n",
    "axs[2].hist(cc,  weights = np.zeros_like(cc)+1./cc.size, \n",
    "           alpha = 0.5, color = \"b\", label = \"outside AR\", bins=30)\n",
    "axs[3].hist(mt, weights = np.zeros_like(mt)+1./mt.size, \n",
    "           alpha = 0.5, color = \"g\", label = \"inside AR\", bins=30)\n",
    "axs[3].hist(t, weights = np.zeros_like(t)+1./t.size, \n",
    "           alpha = 0.5, color = \"b\", label = \"outside AR\", bins=30)\n",
    "axs[4].hist(mp, weights = np.zeros_like(mp)+1./mp.size, \n",
    "           alpha = 0.5, color = \"g\", label = \"inside AR\", bins=30)\n",
    "axs[4].hist(p, weights = np.zeros_like(p)+1./p.size,\n",
    "           alpha = 0.5, color = \"b\", label = \"outside AR\", bins=30)\n",
    "axs[5].hist(ma, weights = np.zeros_like(ma)+1./ma.size, \n",
    "           alpha = 0.5, color = \"g\", label = \"inside AR\", bins=30)\n",
    "axs[5].hist(a, weights = np.zeros_like(a)+1./a.size,\n",
    "           alpha = 0.5, color = \"b\", label = \"outside AR\", bins=30)\n",
    "axs[0].set_title('integrated wind')\n",
    "axs[0].set(ylabel = 'fraction', xlabel = 'v (Pa*m/s)')\n",
    "axs[1].set_title('integrated specific humidity')\n",
    "axs[1].set(ylabel = 'fraction', xlabel = 'Specific humidity (Pa*g/kg)')\n",
    "axs[2].set_title('cloud cover')\n",
    "axs[2].legend()\n",
    "axs[2].set(ylabel = 'fraction', xlabel = 'Cloud cover (%)')\n",
    "axs[3].set_title('surface temperature')\n",
    "axs[3].set(ylabel = 'fraction', xlabel = 'Temperature (K)')\n",
    "axs[4].set_title('precipitation')\n",
    "axs[4].set(ylabel = 'fraction', xlabel = 'Precipitation (kg m-2 s-1) ')\n",
    "axs[5].set_title('aerosol optical depth')\n",
    "axs[5].set(ylabel = 'fraction', xlabel = 'AOD at 550 nm ')\n",
    "plt.tight_layout()\n",
    "    "
   ]
  },
  {
   "cell_type": "markdown",
   "id": "6eac085b-6f33-46d2-97fa-fe5b2e1aa705",
   "metadata": {},
   "source": [
    "## Antarctic"
   ]
  },
  {
   "cell_type": "code",
   "execution_count": null,
   "id": "acdfbba1-fd68-4345-beee-ff9abbd9f690",
   "metadata": {},
   "outputs": [],
   "source": [
    "# for frequency plots slice for plev >25000 and integrate over plev\n",
    "mpl =mant.sel(plev=slice(100000, 25000))\n",
    "pl =amant.sel(plev=slice(100000, 25000)).where(ant['va'] < 0)\n",
    "\n",
    "# wind\n",
    "mplva =-1*mpl['va'].integrate('plev')\n",
    "plva =-1*pl['va'].integrate('plev')\n",
    "\n",
    "# humidity\n",
    "mplh =-1*mpl['hus'].integrate('plev')\n",
    "plh =-1*pl['hus'].integrate('plev')\n"
   ]
  },
  {
   "cell_type": "code",
   "execution_count": null,
   "id": "c0baa2d3-c45d-44db-9fc9-8ec8707a914f",
   "metadata": {},
   "outputs": [],
   "source": [
    "mv = mplva.values.flatten()\n",
    "mv = mv[~np.isnan(mv)]\n",
    "v = plva.values.flatten()\n",
    "v= v[~np.isnan(v)]\n",
    "mh = mplh.values.flatten()\n",
    "mh = mh[~np.isnan(mh)]\n",
    "h = plh.values.flatten()\n",
    "h = h[~np.isnan(h)]\n",
    "mcc = pl['clt'].values.flatten()\n",
    "mcc = mcc[~np.isnan(mcc)]\n",
    "cc = mpl['clt'].values.flatten()\n",
    "cc = cc[~np.isnan(cc)]\n",
    "mt = mpl['tas'].values.flatten()\n",
    "mt = mt[~np.isnan(mt)]\n",
    "t = pl['tas'].values.flatten()\n",
    "t = t[~np.isnan(t)]\n",
    "ma = mpl['od550aer'].values.flatten()\n",
    "ma = ma[~np.isnan(ma)]\n",
    "a = pl['od550aer'].values.flatten()\n",
    "a = a[~np.isnan(a)]\n",
    "mp = mpl['pr'].values.flatten()\n",
    "mp = mp[~np.isnan(mp)]\n",
    "p = pl['pr'].values.flatten()\n",
    "p = p[~np.isnan(p)]"
   ]
  },
  {
   "cell_type": "code",
   "execution_count": null,
   "id": "52f23928-323e-46ed-abe3-69dbaca4c6d0",
   "metadata": {},
   "outputs": [],
   "source": [
    "fig, axs = plt.subplots(2,3, figsize=(10,6))\n",
    "fig.suptitle('Antarctic', fontsize=16)\n",
    "axs = axs.flatten()\n",
    "axs[0].hist(mv, weights = np.zeros_like(mv)+1./mv.size, \n",
    "           alpha = 0.5, color = \"g\", label = \"inside AR\", bins=30)\n",
    "axs[0].hist(v, weights = np.zeros_like(v)+1./v.size, \n",
    "           alpha = 0.5, color = \"b\", label = \"outside AR\", bins=30)\n",
    "axs[1].hist(mh, weights = np.zeros_like(mh)+1./mh.size, \n",
    "           alpha = 0.5, color = \"g\", label = \"inside AR\", bins=30)\n",
    "axs[1].hist(h, weights = np.zeros_like(h)+1./h.size, \n",
    "           alpha = 0.5, color = \"b\", label = \"outside AR\", bins=30)\n",
    "axs[2].hist(mcc, weights = np.zeros_like(mcc)+1./mcc.size, \n",
    "           alpha = 0.5, color = \"g\", label = \"inside AR\", bins=30)\n",
    "axs[2].hist(cc,  weights = np.zeros_like(cc)+1./cc.size, \n",
    "           alpha = 0.5, color = \"b\", label = \"outside AR\", bins=30)\n",
    "axs[3].hist(mt, weights = np.zeros_like(mt)+1./mt.size, \n",
    "           alpha = 0.5, color = \"g\", label = \"inside AR\", bins=30)\n",
    "axs[3].hist(t, weights = np.zeros_like(t)+1./t.size, \n",
    "           alpha = 0.5, color = \"b\", label = \"outside AR\", bins=30)\n",
    "axs[4].hist(mp, weights = np.zeros_like(mp)+1./mp.size, \n",
    "           alpha = 0.5, color = \"g\", label = \"inside AR\", bins=30)\n",
    "axs[4].hist(p, weights = np.zeros_like(p)+1./p.size,\n",
    "           alpha = 0.5, color = \"b\", label = \"outside AR\", bins=30)\n",
    "axs[5].hist(ma, weights = np.zeros_like(ma)+1./ma.size, \n",
    "           alpha = 0.5, color = \"g\", label = \"inside AR\", bins=30)\n",
    "axs[5].hist(a, weights = np.zeros_like(a)+1./a.size,\n",
    "           alpha = 0.5, color = \"b\", label = \"outside AR\", bins=30)\n",
    "axs[0].set_title('integrated wind')\n",
    "axs[0].set(ylabel = 'fraction', xlabel = 'v (Pa*m/s)')\n",
    "axs[1].set_title('integrated specific humidity')\n",
    "axs[1].set(ylabel = 'fraction', xlabel = 'Specific humidity (Pa*g/kg)')\n",
    "axs[2].set_title('cloud cover')\n",
    "axs[2].set(ylabel = 'fraction', xlabel = 'Cloud cover (%)')\n",
    "axs[2].legend()\n",
    "axs[3].set_title('surface temperature')\n",
    "axs[3].set(ylabel = 'fraction', xlabel = 'Temperature (K)')\n",
    "axs[4].set_title('precipitation')\n",
    "axs[4].set(ylabel = 'fraction', xlabel = 'Precipitation (kg m-2 s-1) ')\n",
    "axs[5].set_title('aerosol optical depth')\n",
    "axs[5].set(ylabel = 'fraction', xlabel = 'AOD at 550 nm ')\n",
    "plt.tight_layout()"
   ]
  }
 ],
 "metadata": {
  "kernelspec": {
   "display_name": "Python 3 (ipykernel)",
   "language": "python",
   "name": "python3"
  },
  "language_info": {
   "codemirror_mode": {
    "name": "ipython",
    "version": 3
   },
   "file_extension": ".py",
   "mimetype": "text/x-python",
   "name": "python",
   "nbconvert_exporter": "python",
   "pygments_lexer": "ipython3",
   "version": "3.9.13"
  }
 },
 "nbformat": 4,
 "nbformat_minor": 5
}
