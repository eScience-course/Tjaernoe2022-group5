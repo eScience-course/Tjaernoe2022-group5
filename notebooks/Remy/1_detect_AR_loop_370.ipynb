{
 "cells": [
  {
   "cell_type": "code",
   "execution_count": 1,
   "metadata": {},
   "outputs": [],
   "source": [
    "import xarray as xr\n",
    "xr.set_options(display_style='html')\n",
    "import intake\n",
    "import cftime\n",
    "import matplotlib.pyplot as plt\n",
    "import numpy as np\n",
    "from netCDF4 import Dataset\n",
    "from matplotlib.colors import LogNorm\n",
    "import cartopy.crs as ccrs\n",
    "import cartopy\n",
    "import matplotlib.path as mpath\n",
    "from functions import compute_ivt,to_nc\n",
    "from matplotlib import rc,animation\n",
    "from matplotlib.animation import FuncAnimation\n",
    "from IPython import display\n",
    "import s3fs"
   ]
  },
  {
   "cell_type": "code",
   "execution_count": 2,
   "metadata": {},
   "outputs": [
    {
     "data": {
      "text/plain": [
       "['escience2022/Remy/.keep',\n",
       " 'escience2022/Remy/.wget-20221102193645.sh.status',\n",
       " 'escience2022/Remy/.wget-20221102193729.sh.status',\n",
       " 'escience2022/Remy/.wget-20221102193735.sh.status',\n",
       " 'escience2022/Remy/.wget-20221102193742.sh.status',\n",
       " 'escience2022/Remy/Era5',\n",
       " 'escience2022/Remy/dl_era5_hus.py',\n",
       " 'escience2022/Remy/dl_era5_wind.py',\n",
       " 'escience2022/Remy/hus_day_NorESM2-LM_ssp370_r1i1p1f1_gn_20150101-20201231.nc',\n",
       " 'escience2022/Remy/hus_day_NorESM2-LM_ssp370_r1i1p1f1_gn_20210101-20301231.nc',\n",
       " 'escience2022/Remy/hus_day_NorESM2-LM_ssp370_r1i1p1f1_gn_20310101-20401231.nc',\n",
       " 'escience2022/Remy/hus_day_NorESM2-LM_ssp370_r1i1p1f1_gn_20410101-20501231.nc',\n",
       " 'escience2022/Remy/hus_day_NorESM2-LM_ssp370_r1i1p1f1_gn_20510101-20601231.nc',\n",
       " 'escience2022/Remy/hus_day_NorESM2-LM_ssp370_r1i1p1f1_gn_20610101-20701231.nc',\n",
       " 'escience2022/Remy/hus_day_NorESM2-LM_ssp370_r1i1p1f1_gn_20710101-20801231.nc',\n",
       " 'escience2022/Remy/hus_day_NorESM2-LM_ssp370_r1i1p1f1_gn_20810101-20901231.nc',\n",
       " 'escience2022/Remy/hus_day_NorESM2-LM_ssp370_r1i1p1f1_gn_20910101-21001231.nc',\n",
       " 'escience2022/Remy/od550aer_AERday_NorESM2-LM_historical_r1i1p1f1_gn_19500101-19591231.nc',\n",
       " 'escience2022/Remy/od550aer_AERday_NorESM2-LM_historical_r1i1p1f1_gn_19600101-19691231.nc',\n",
       " 'escience2022/Remy/od550aer_AERday_NorESM2-LM_historical_r1i1p1f1_gn_19700101-19791231.nc',\n",
       " 'escience2022/Remy/od550aer_AERday_NorESM2-LM_historical_r1i1p1f1_gn_19800101-19891231.nc',\n",
       " 'escience2022/Remy/od550aer_AERday_NorESM2-LM_historical_r1i1p1f1_gn_19900101-19991231.nc',\n",
       " 'escience2022/Remy/od550aer_AERday_NorESM2-LM_historical_r1i1p1f1_gn_20000101-20091231.nc',\n",
       " 'escience2022/Remy/od550aer_AERday_NorESM2-LM_historical_r1i1p1f1_gn_20100101-20141231.nc',\n",
       " 'escience2022/Remy/od550aer_AERday_NorESM2-LM_ssp245_r1i1p1f1_gn_20150101-20201231.nc',\n",
       " 'escience2022/Remy/od550aer_AERday_NorESM2-LM_ssp245_r1i1p1f1_gn_20210101-20301231.nc',\n",
       " 'escience2022/Remy/od550aer_AERday_NorESM2-LM_ssp245_r1i1p1f1_gn_20310101-20401231.nc',\n",
       " 'escience2022/Remy/od550aer_AERday_NorESM2-LM_ssp245_r1i1p1f1_gn_20410101-20501231.nc',\n",
       " 'escience2022/Remy/od550aer_AERday_NorESM2-LM_ssp245_r1i1p1f1_gn_20510101-20601231.nc',\n",
       " 'escience2022/Remy/od550aer_AERday_NorESM2-LM_ssp245_r1i1p1f1_gn_20610101-20701231.nc',\n",
       " 'escience2022/Remy/od550aer_AERday_NorESM2-LM_ssp245_r1i1p1f1_gn_20710101-20801231.nc',\n",
       " 'escience2022/Remy/od550aer_AERday_NorESM2-LM_ssp245_r1i1p1f1_gn_20810101-20901231.nc',\n",
       " 'escience2022/Remy/od550aer_AERday_NorESM2-LM_ssp245_r1i1p1f1_gn_20910101-21001231.nc',\n",
       " 'escience2022/Remy/od550aer_AERday_NorESM2-LM_ssp370_r1i1p1f1_gn_20150101-20201231.nc',\n",
       " 'escience2022/Remy/od550aer_AERday_NorESM2-LM_ssp370_r1i1p1f1_gn_20210101-20301231.nc',\n",
       " 'escience2022/Remy/od550aer_AERday_NorESM2-LM_ssp370_r1i1p1f1_gn_20310101-20401231.nc',\n",
       " 'escience2022/Remy/od550aer_AERday_NorESM2-LM_ssp370_r1i1p1f1_gn_20410101-20501231.nc',\n",
       " 'escience2022/Remy/od550aer_AERday_NorESM2-LM_ssp370_r1i1p1f1_gn_20510101-20601231.nc',\n",
       " 'escience2022/Remy/od550aer_AERday_NorESM2-LM_ssp370_r1i1p1f1_gn_20610101-20701231.nc',\n",
       " 'escience2022/Remy/od550aer_AERday_NorESM2-LM_ssp370_r1i1p1f1_gn_20710101-20801231.nc',\n",
       " 'escience2022/Remy/od550aer_AERday_NorESM2-LM_ssp370_r1i1p1f1_gn_20810101-20901231.nc',\n",
       " 'escience2022/Remy/od550aer_AERday_NorESM2-LM_ssp370_r1i1p1f1_gn_20910101-21001231.nc',\n",
       " 'escience2022/Remy/od550aer_AERday_NorESM2-LM_ssp585_r1i1p1f1_gn_20150101-20201231.nc',\n",
       " 'escience2022/Remy/od550aer_AERday_NorESM2-LM_ssp585_r1i1p1f1_gn_20210101-20301231.nc',\n",
       " 'escience2022/Remy/od550aer_AERday_NorESM2-LM_ssp585_r1i1p1f1_gn_20310101-20401231.nc',\n",
       " 'escience2022/Remy/od550aer_AERday_NorESM2-LM_ssp585_r1i1p1f1_gn_20410101-20501231.nc',\n",
       " 'escience2022/Remy/od550aer_AERday_NorESM2-LM_ssp585_r1i1p1f1_gn_20510101-20601231.nc',\n",
       " 'escience2022/Remy/od550aer_AERday_NorESM2-LM_ssp585_r1i1p1f1_gn_20610101-20701231.nc',\n",
       " 'escience2022/Remy/od550aer_AERday_NorESM2-LM_ssp585_r1i1p1f1_gn_20710101-20801231.nc',\n",
       " 'escience2022/Remy/od550aer_AERday_NorESM2-LM_ssp585_r1i1p1f1_gn_20810101-20901231.nc',\n",
       " 'escience2022/Remy/od550aer_AERday_NorESM2-LM_ssp585_r1i1p1f1_gn_20910101-21001231.nc',\n",
       " 'escience2022/Remy/va_day_NorESM2-LM_ssp370_r1i1p1f1_gn_20150101-20201231.nc',\n",
       " 'escience2022/Remy/va_day_NorESM2-LM_ssp370_r1i1p1f1_gn_20210101-20301231.nc',\n",
       " 'escience2022/Remy/va_day_NorESM2-LM_ssp370_r1i1p1f1_gn_20310101-20401231.nc',\n",
       " 'escience2022/Remy/va_day_NorESM2-LM_ssp370_r1i1p1f1_gn_20410101-20501231.nc',\n",
       " 'escience2022/Remy/va_day_NorESM2-LM_ssp370_r1i1p1f1_gn_20510101-20601231.nc',\n",
       " 'escience2022/Remy/va_day_NorESM2-LM_ssp370_r1i1p1f1_gn_20610101-20701231.nc',\n",
       " 'escience2022/Remy/va_day_NorESM2-LM_ssp370_r1i1p1f1_gn_20710101-20801231.nc',\n",
       " 'escience2022/Remy/va_day_NorESM2-LM_ssp370_r1i1p1f1_gn_20810101-20901231.nc',\n",
       " 'escience2022/Remy/va_day_NorESM2-LM_ssp370_r1i1p1f1_gn_20910101-21001231.nc',\n",
       " 'escience2022/Remy/wget-20221102193645.sh',\n",
       " 'escience2022/Remy/wget-20221102193729.sh',\n",
       " 'escience2022/Remy/wget-20221102193735.sh',\n",
       " 'escience2022/Remy/wget-20221102193742.sh',\n",
       " 'escience2022/Remy/wind_ERA5_2020_3hourlyN.nc']"
      ]
     },
     "execution_count": 2,
     "metadata": {},
     "output_type": "execute_result"
    }
   ],
   "source": [
    "s3 = s3fs.S3FileSystem(key=\"K1CQ7M1DMTLUFK182APD\", \n",
    "                       secret=\"3JuZAQm5I03jtpijCpHOdkAsJDNLNfZxBpM15Pi0\", \n",
    "                       client_kwargs=dict(endpoint_url=\"https://rgw.met.no\"))\n",
    "s3.ls('escience2022/Remy/')"
   ]
  },
  {
   "cell_type": "code",
   "execution_count": 3,
   "metadata": {},
   "outputs": [],
   "source": [
    "years = np.arange(2033,2100,1).astype(int)\n",
    "ssp = 'ssp370'"
   ]
  },
  {
   "cell_type": "code",
   "execution_count": 4,
   "metadata": {},
   "outputs": [],
   "source": [
    "huspath = list([\n",
    " 'escience2022/Remy/hus_day_NorESM2-LM_ssp370_r1i1p1f1_gn_20150101-20201231.nc',\n",
    " 'escience2022/Remy/hus_day_NorESM2-LM_ssp370_r1i1p1f1_gn_20210101-20301231.nc',\n",
    " 'escience2022/Remy/hus_day_NorESM2-LM_ssp370_r1i1p1f1_gn_20310101-20401231.nc',\n",
    " 'escience2022/Remy/hus_day_NorESM2-LM_ssp370_r1i1p1f1_gn_20410101-20501231.nc',\n",
    " 'escience2022/Remy/hus_day_NorESM2-LM_ssp370_r1i1p1f1_gn_20510101-20601231.nc',\n",
    " 'escience2022/Remy/hus_day_NorESM2-LM_ssp370_r1i1p1f1_gn_20610101-20701231.nc',\n",
    " 'escience2022/Remy/hus_day_NorESM2-LM_ssp370_r1i1p1f1_gn_20710101-20801231.nc',\n",
    " 'escience2022/Remy/hus_day_NorESM2-LM_ssp370_r1i1p1f1_gn_20810101-20901231.nc',\n",
    " 'escience2022/Remy/hus_day_NorESM2-LM_ssp370_r1i1p1f1_gn_20910101-21001231.nc'\n",
    "])\n",
    "\n",
    "vapath = list([\n",
    " 'escience2022/Remy/va_day_NorESM2-LM_ssp370_r1i1p1f1_gn_20150101-20201231.nc',\n",
    " 'escience2022/Remy/va_day_NorESM2-LM_ssp370_r1i1p1f1_gn_20210101-20301231.nc',\n",
    " 'escience2022/Remy/va_day_NorESM2-LM_ssp370_r1i1p1f1_gn_20310101-20401231.nc',\n",
    " 'escience2022/Remy/va_day_NorESM2-LM_ssp370_r1i1p1f1_gn_20410101-20501231.nc',\n",
    " 'escience2022/Remy/va_day_NorESM2-LM_ssp370_r1i1p1f1_gn_20510101-20601231.nc',\n",
    " 'escience2022/Remy/va_day_NorESM2-LM_ssp370_r1i1p1f1_gn_20610101-20701231.nc',\n",
    " 'escience2022/Remy/va_day_NorESM2-LM_ssp370_r1i1p1f1_gn_20710101-20801231.nc',\n",
    " 'escience2022/Remy/va_day_NorESM2-LM_ssp370_r1i1p1f1_gn_20810101-20901231.nc',\n",
    " 'escience2022/Remy/va_day_NorESM2-LM_ssp370_r1i1p1f1_gn_20910101-21001231.nc'\n",
    "])\n",
    "\n",
    "sopenlisth=[s3.open(ss) for ss in huspath]\n",
    "sopenlistv=[s3.open(ss) for ss in vapath]\n",
    "\n",
    "hus370 = xr.open_mfdataset(sopenlisth, chunks={'time':-1,'lat':20,'lon':20})\n",
    "va370 = xr.open_mfdataset(sopenlistv, chunks={'time':-1,'lat':20,'lon':20})\n"
   ]
  },
  {
   "cell_type": "code",
   "execution_count": 5,
   "metadata": {},
   "outputs": [],
   "source": [
    "def compute_ivt1(ivx):\n",
    "    g = 9.81\n",
    "    iv_ = -1/g*ivx.qv.integrate(coord='plev')\n",
    "    return iv_\n",
    "\n",
    "def floodfill(indata):\n",
    "    outloc = np.copy(indata)\n",
    "    for x in range(indata.shape[0]):\n",
    "        # for each latitude get limit longitudes of shapes\n",
    "        ind_lim = np.where(indata[x,:]==1)\n",
    "        for ii in ind_lim:\n",
    "            if len(ii)>1: # if there is a shape at that longitude\n",
    "                jj=0\n",
    "                while jj<=len(ii)-2:\n",
    "                    if abs(ii[jj]-ii[jj+1])>10: # avoid filling where only 1 point in shape\n",
    "                        jj=jj+1\n",
    "                    else:\n",
    "                        outloc[x,ii[jj]:ii[jj+1]]=1\n",
    "                        jj=jj+1\n",
    "    return outloc"
   ]
  },
  {
   "cell_type": "code",
   "execution_count": 6,
   "metadata": {},
   "outputs": [],
   "source": [
    "# pre-computed 98th percentile IVT\n",
    "q98 = xr.open_dataset('q93_2000.nc')\n",
    "q98 = q98.rename({'__xarray_dataarray_variable__':'ivt'})"
   ]
  },
  {
   "cell_type": "code",
   "execution_count": null,
   "metadata": {},
   "outputs": [
    {
     "name": "stdout",
     "output_type": "stream",
     "text": [
      "2033\n"
     ]
    },
    {
     "name": "stderr",
     "output_type": "stream",
     "text": [
      "/tmp/ipykernel_4094/3831064186.py:26: UserWarning: No contour levels were found within the data range.\n",
      "  ll = plt.contour(df_loc,levels=[0,1])\n"
     ]
    },
    {
     "name": "stdout",
     "output_type": "stream",
     "text": [
      "2034\n"
     ]
    }
   ],
   "source": [
    "for year in years:\n",
    "    print(year)\n",
    "    husloc = hus370.sel(time=slice(str(year)+\"-01-01\", str(year)+\"-12-31\"))\n",
    "    valoc = va370.sel(time=slice(str(year)+\"-01-01\", str(year)+\"-12-31\"))\n",
    "    vas = valoc.va\n",
    "    hus = husloc.hus\n",
    "    plev = husloc.plev\n",
    "    lat_ = husloc.lat\n",
    "    lon_ = husloc.lon\n",
    "    ivt = compute_ivt(hus,vas,plev)\n",
    "    husloc.close()\n",
    "    valoc.close()\n",
    "    ivt_ns = ivt.copy()\n",
    "    ivt_ns = xr.where(ivt_ns.lat<0,-ivt_ns,ivt_ns,True) # minus for southern hemisphere (positive toward the pole)\n",
    "    ivt_ns_pos = xr.where(ivt_ns<0,ivt_ns*0,ivt_ns,True) # negative values = not poleward\n",
    "    excess = ivt_ns_pos-q98\n",
    "    ivt_ns_pos.close()\n",
    "    ar_points = xr.where(excess>0,1,0)\n",
    "    out_ar = ar_points.copy()\n",
    "    ar_points.close()\n",
    "    #out_ar = out_ar.drop_vars(['quantile','member_id'])\n",
    "    out_loc = np.zeros((out_ar.ivt.shape[0],out_ar.ivt.shape[1],out_ar.ivt.shape[2])).astype(int)\n",
    "    test_val = out_ar.ivt.values[:]\n",
    "    for tt in range(len(out_ar.time)):\n",
    "        df_loc = test_val[:,tt,:]\n",
    "        ll = plt.contour(df_loc,levels=[0,1])\n",
    "        plt.close()\n",
    "        for item in ll.collections:\n",
    "            for i in item.get_paths():\n",
    "                v = i.vertices\n",
    "                crit = abs(np.max(v[:, 1])-np.min(v[:, 1]))\n",
    "                if (crit>=20): # AR has to be at least 20 deg lat \n",
    "                    xx=(v[:, 0]).astype(int)\n",
    "                    yy=(v[:, 1]).astype(int)\n",
    "                    for (x,y) in zip(xx,yy):\n",
    "                        out_loc[y,tt,x] = 1\n",
    "                        \n",
    "    out_ar.ivt.values = out_loc.astype(bool)\n",
    "    out_ar.to_netcdf(str(year)+'_crit_p93_'+ssp+'.nc')\n",
    "    out_ar.close()\n",
    "    AR = xr.open_dataset(str(year)+'_crit_p93_'+ssp+'.nc')\n",
    "    ivt_ = AR.ivt\n",
    "    ivt = xr.concat([ivt_,ivt_[:,:,:5]],dim='lon')# add extra points for AR at the edge of the world\n",
    "    out_ar = ivt.copy()\n",
    "    out_ar.values[:] = out_ar.values[:]*0.0\n",
    "\n",
    "    for k in range(ivt.shape[0]):\n",
    "        matrix = ivt[k,:,:]\n",
    "        tst = floodfill(matrix)\n",
    "        out_ar[k,:,:] = tst\n",
    "    \n",
    "    # add the values of the extra points to get ARs at the end of the world\n",
    "    out_ar[:,:,:5] = out_ar[:,:,:5]+out_ar[:,:,144:]\n",
    "    out_ar = out_ar[:,:,:144]\n",
    "    out_ar = xr.where(out_ar>1,1,out_ar)\n",
    "    out_ar = out_ar.astype(bool)\n",
    "    lat_ = AR.lat\n",
    "    lon_ = AR.lon\n",
    "    out_ar.to_netcdf(str(year)+'_AR_detection_p93_'+ssp+'.nc')"
   ]
  },
  {
   "cell_type": "code",
   "execution_count": null,
   "metadata": {},
   "outputs": [],
   "source": []
  }
 ],
 "metadata": {
  "kernelspec": {
   "display_name": "Python 3 (ipykernel)",
   "language": "python",
   "name": "python3"
  },
  "language_info": {
   "codemirror_mode": {
    "name": "ipython",
    "version": 3
   },
   "file_extension": ".py",
   "mimetype": "text/x-python",
   "name": "python",
   "nbconvert_exporter": "python",
   "pygments_lexer": "ipython3",
   "version": "3.9.13"
  }
 },
 "nbformat": 4,
 "nbformat_minor": 4
}
